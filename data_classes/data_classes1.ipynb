{
 "cells": [
  {
   "cell_type": "markdown",
   "id": "55730947",
   "metadata": {},
   "source": [
    "A dataclass is simply a code generator that allows us to define custom classes using a different syntax, and allows us to generate what is often referred to as \"boilerplate\" code - code that is repetitive and basically always works the same way. Essentially a dataclass is a class decorator that can either monkey patch an existing class, or, when slots are involved, generates a new class based on the old one, with extra functionality injected."
   ]
  },
  {
   "cell_type": "markdown",
   "id": "22af53dd",
   "metadata": {},
   "source": [
    "python example"
   ]
  },
  {
   "cell_type": "code",
   "execution_count": 1,
   "id": "acf587ce",
   "metadata": {},
   "outputs": [],
   "source": [
    "class Circle:\n",
    "    def __init__(self, x: int = 0, y: int = 0, radius: int = 1):\n",
    "        self.x = x\n",
    "        self.y = y\n",
    "        self.radius = radius"
   ]
  },
  {
   "cell_type": "code",
   "execution_count": 2,
   "id": "bdcaa1f7",
   "metadata": {},
   "outputs": [
    {
     "data": {
      "text/plain": [
       "<__main__.Circle at 0x221dd941c90>"
      ]
     },
     "execution_count": 2,
     "metadata": {},
     "output_type": "execute_result"
    }
   ],
   "source": [
    "c = Circle()\n",
    "c\n",
    "\n"
   ]
  },
  {
   "cell_type": "markdown",
   "id": "db9ae940",
   "metadata": {},
   "source": [
    "Let's add some functionality that we usually add (or should add) to our class.\n",
    "\n",
    "First, let's have a custom __repr__"
   ]
  },
  {
   "cell_type": "code",
   "execution_count": 3,
   "id": "9648af70",
   "metadata": {},
   "outputs": [],
   "source": [
    "class Circle:\n",
    "    def __init__(self, x: int = 0, y: int = 0, radius: int = 1):\n",
    "        self.x = x\n",
    "        self.y = y\n",
    "        self.radius = radius\n",
    "\n",
    "    def __repr__(self):\n",
    "        return f\"{self.__class__.__qualname__}(x={self.x}, y={self.y}, radius={self.radius})\""
   ]
  },
  {
   "cell_type": "code",
   "execution_count": 4,
   "id": "4856c197",
   "metadata": {},
   "outputs": [
    {
     "data": {
      "text/plain": [
       "Circle(x=0, y=0, radius=1)"
      ]
     },
     "execution_count": 4,
     "metadata": {},
     "output_type": "execute_result"
    }
   ],
   "source": [
    "c1 = Circle(0, 0, 1)\n",
    "c1\n",
    "\n"
   ]
  },
  {
   "cell_type": "markdown",
   "id": "216b29e0",
   "metadata": {},
   "source": [
    "Now let's see how we can do the same thing using a dataclass:"
   ]
  },
  {
   "cell_type": "code",
   "execution_count": 5,
   "id": "e8cad5f8",
   "metadata": {},
   "outputs": [],
   "source": [
    "from dataclasses import dataclass"
   ]
  },
  {
   "cell_type": "code",
   "execution_count": 6,
   "id": "73491489",
   "metadata": {},
   "outputs": [],
   "source": [
    "@dataclass\n",
    "class CircleD:\n",
    "    x: int = 0\n",
    "    y: int = 0\n",
    "    radius: int = 1 "
   ]
  },
  {
   "cell_type": "code",
   "execution_count": 7,
   "id": "d9c06c77",
   "metadata": {},
   "outputs": [
    {
     "data": {
      "text/plain": [
       "CircleD(x=0, y=0, radius=1)"
      ]
     },
     "execution_count": 7,
     "metadata": {},
     "output_type": "execute_result"
    }
   ],
   "source": [
    "c2 = CircleD()\n",
    "c2"
   ]
  },
  {
   "cell_type": "code",
   "execution_count": 10,
   "id": "af6fab7a",
   "metadata": {},
   "outputs": [
    {
     "data": {
      "text/plain": [
       "True"
      ]
     },
     "execution_count": 10,
     "metadata": {},
     "output_type": "execute_result"
    }
   ],
   "source": [
    "c3 = CircleD(1, 1, 5)\n",
    "c4 = CircleD(1, 1, 5)\n",
    "c3 == c4\n"
   ]
  },
  {
   "cell_type": "markdown",
   "id": "259dd1b6",
   "metadata": {},
   "source": [
    "back to plain python "
   ]
  },
  {
   "cell_type": "code",
   "execution_count": 8,
   "id": "1bbf48c5",
   "metadata": {},
   "outputs": [],
   "source": [
    "class Circle:\n",
    "    def __init__(self, x: int = 0, y: int = 0, radius: int = 1):\n",
    "        self.x = x\n",
    "        self.y = y\n",
    "        self.radius = radius\n",
    "\n",
    "    def __repr__(self):\n",
    "        return f\"{self.__class__.__qualname__}(x={self.x}, y={self.y}, radius={self.radius})\"\n",
    "    \n",
    "    def __eq__(self, other):\n",
    "        if self.__class__ == other.__class__:\n",
    "            return (self.x, self.y, self.radius) == (other.x, other.y, other.radius)\n",
    "        return NotImplemented"
   ]
  },
  {
   "cell_type": "code",
   "execution_count": 9,
   "id": "e6e200f4",
   "metadata": {},
   "outputs": [
    {
     "data": {
      "text/plain": [
       "(False, True)"
      ]
     },
     "execution_count": 9,
     "metadata": {},
     "output_type": "execute_result"
    }
   ],
   "source": [
    "c1 = Circle(0, 0, 1)\n",
    "c2 = Circle(0, 0, 1)\n",
    "\n",
    "c1 is c2, c1 == c2"
   ]
  },
  {
   "cell_type": "markdown",
   "id": "719bb592",
   "metadata": {},
   "source": [
    "hash for plain python"
   ]
  },
  {
   "cell_type": "code",
   "execution_count": 11,
   "id": "92438c96",
   "metadata": {},
   "outputs": [],
   "source": [
    "class Circle:\n",
    "    def __init__(self, x: int = 0, y: int = 0, radius: int = 1):\n",
    "        self.x = x\n",
    "        self.y = y\n",
    "        self.radius = radius\n",
    "\n",
    "    def __repr__(self):\n",
    "        return f\"{self.__class__.__qualname__}(x={self.x}, y={self.y}, radius={self.radius})\"\n",
    "    \n",
    "    def __eq__(self, other):\n",
    "        if self.__class__ == other.__class__:\n",
    "            return (self.x, self.y, self.radius) == (other.x, other.y, other.radius)\n",
    "        return NotImplemented\n",
    "    \n",
    "    def __hash__(self):\n",
    "        return hash((self.x, self.y, self.radius))"
   ]
  },
  {
   "cell_type": "code",
   "execution_count": 12,
   "id": "60722d86",
   "metadata": {},
   "outputs": [
    {
     "data": {
      "text/plain": [
       "(True, True)"
      ]
     },
     "execution_count": 12,
     "metadata": {},
     "output_type": "execute_result"
    }
   ],
   "source": [
    "c1 = Circle(0, 0, 1)\n",
    "c2 = Circle(0, 0, 1)\n",
    "c1 == c2, hash(c1) == hash(c2)\n"
   ]
  },
  {
   "cell_type": "markdown",
   "id": "b161b972",
   "metadata": {},
   "source": [
    "\n",
    "Immutability\n",
    "\n",
    "To make our custom class implementation better we need to make the attributes used in the hash, x, y, and radius immutable.\n",
    "\n",
    "Let's add even more boilerplate code to our class:\n"
   ]
  },
  {
   "cell_type": "code",
   "execution_count": 13,
   "id": "8f4cb499",
   "metadata": {},
   "outputs": [],
   "source": [
    "class Circle:\n",
    "    def __init__(self, x: int = 0, y: int = 0, radius: int = 1):\n",
    "        self._x = x\n",
    "        self._y = y\n",
    "        self._radius = radius\n",
    "\n",
    "    @property\n",
    "    def x(self):\n",
    "        return self._x\n",
    "    \n",
    "    @property\n",
    "    def y(self):\n",
    "        return self._y\n",
    "    \n",
    "    @property\n",
    "    def radius(self):\n",
    "        return self._radius\n",
    "    \n",
    "    def __repr__(self):\n",
    "        return f\"{self.__class__.__qualname__}(x={self.x}, y={self.y}, radius={self.radius})\"\n",
    "    \n",
    "    def __eq__(self, other):\n",
    "        if self.__class__ == other.__class__:\n",
    "            return (self.x, self.y, self.radius) == (other.x, other.y, other.radius)\n",
    "        return NotImplemented\n",
    "    \n",
    "    def __hash__(self):\n",
    "        return hash((self.x, self.y, self.radius))"
   ]
  },
  {
   "cell_type": "markdown",
   "id": "5ad1e6d8",
   "metadata": {},
   "source": [
    "dataclass immutable"
   ]
  },
  {
   "cell_type": "code",
   "execution_count": 14,
   "id": "b04d25d0",
   "metadata": {},
   "outputs": [
    {
     "data": {
      "text/plain": [
       "(CircleD(x=0, y=0, radius=1),\n",
       " CircleD(x=1, y=1, radius=1),\n",
       " CircleD(x=0, y=0, radius=1))"
      ]
     },
     "execution_count": 14,
     "metadata": {},
     "output_type": "execute_result"
    }
   ],
   "source": [
    "@dataclass(frozen=True)\n",
    "class CircleD:\n",
    "    x: int = 0\n",
    "    y: int = 0\n",
    "    radius: int = 1\n",
    "\n",
    "c3 = CircleD()\n",
    "c4 = CircleD(1, 1, 1)\n",
    "c5 = CircleD()\n",
    "c3, c4, c5\n",
    "\n"
   ]
  },
  {
   "cell_type": "code",
   "execution_count": 15,
   "id": "1dc9b415",
   "metadata": {},
   "outputs": [
    {
     "data": {
      "text/plain": [
       "(True, False)"
      ]
     },
     "execution_count": 15,
     "metadata": {},
     "output_type": "execute_result"
    }
   ],
   "source": [
    "c3 == c5, c4 == c5"
   ]
  },
  {
   "cell_type": "code",
   "execution_count": 16,
   "id": "ba0b79d3",
   "metadata": {},
   "outputs": [
    {
     "data": {
      "text/plain": [
       "(True, False)"
      ]
     },
     "execution_count": 16,
     "metadata": {},
     "output_type": "execute_result"
    }
   ],
   "source": [
    "c3 == c5, c4 == c5"
   ]
  }
 ],
 "metadata": {
  "kernelspec": {
   "display_name": "Python 3 (ipykernel)",
   "language": "python",
   "name": "python3"
  },
  "language_info": {
   "codemirror_mode": {
    "name": "ipython",
    "version": 3
   },
   "file_extension": ".py",
   "mimetype": "text/x-python",
   "name": "python",
   "nbconvert_exporter": "python",
   "pygments_lexer": "ipython3",
   "version": "3.10.5"
  }
 },
 "nbformat": 4,
 "nbformat_minor": 5
}
