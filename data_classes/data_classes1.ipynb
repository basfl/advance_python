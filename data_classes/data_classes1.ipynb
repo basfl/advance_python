{
 "cells": [
  {
   "cell_type": "markdown",
   "id": "55730947",
   "metadata": {},
   "source": [
    "A dataclass is simply a code generator that allows us to define custom classes using a different syntax, and allows us to generate what is often referred to as \"boilerplate\" code - code that is repetitive and basically always works the same way. Essentially a dataclass is a class decorator that can either monkey patch an existing class, or, when slots are involved, generates a new class based on the old one, with extra functionality injected."
   ]
  },
  {
   "cell_type": "markdown",
   "id": "22af53dd",
   "metadata": {},
   "source": [
    "python example"
   ]
  },
  {
   "cell_type": "code",
   "execution_count": 1,
   "id": "acf587ce",
   "metadata": {},
   "outputs": [],
   "source": [
    "class Circle:\n",
    "    def __init__(self, x: int = 0, y: int = 0, radius: int = 1):\n",
    "        self.x = x\n",
    "        self.y = y\n",
    "        self.radius = radius"
   ]
  },
  {
   "cell_type": "code",
   "execution_count": 2,
   "id": "bdcaa1f7",
   "metadata": {},
   "outputs": [
    {
     "data": {
      "text/plain": [
       "<__main__.Circle at 0x221dd941c90>"
      ]
     },
     "execution_count": 2,
     "metadata": {},
     "output_type": "execute_result"
    }
   ],
   "source": [
    "c = Circle()\n",
    "c\n",
    "\n"
   ]
  },
  {
   "cell_type": "markdown",
   "id": "db9ae940",
   "metadata": {},
   "source": [
    "Let's add some functionality that we usually add (or should add) to our class.\n",
    "\n",
    "First, let's have a custom __repr__"
   ]
  },
  {
   "cell_type": "code",
   "execution_count": 3,
   "id": "9648af70",
   "metadata": {},
   "outputs": [],
   "source": [
    "class Circle:\n",
    "    def __init__(self, x: int = 0, y: int = 0, radius: int = 1):\n",
    "        self.x = x\n",
    "        self.y = y\n",
    "        self.radius = radius\n",
    "\n",
    "    def __repr__(self):\n",
    "        return f\"{self.__class__.__qualname__}(x={self.x}, y={self.y}, radius={self.radius})\""
   ]
  },
  {
   "cell_type": "code",
   "execution_count": 4,
   "id": "4856c197",
   "metadata": {},
   "outputs": [
    {
     "data": {
      "text/plain": [
       "Circle(x=0, y=0, radius=1)"
      ]
     },
     "execution_count": 4,
     "metadata": {},
     "output_type": "execute_result"
    }
   ],
   "source": [
    "c1 = Circle(0, 0, 1)\n",
    "c1\n",
    "\n"
   ]
  },
  {
   "cell_type": "markdown",
   "id": "216b29e0",
   "metadata": {},
   "source": [
    "Now let's see how we can do the same thing using a dataclass:"
   ]
  },
  {
   "cell_type": "code",
   "execution_count": 5,
   "id": "e8cad5f8",
   "metadata": {},
   "outputs": [],
   "source": [
    "from dataclasses import dataclass"
   ]
  },
  {
   "cell_type": "code",
   "execution_count": 6,
   "id": "73491489",
   "metadata": {},
   "outputs": [],
   "source": [
    "@dataclass\n",
    "class CircleD:\n",
    "    x: int = 0\n",
    "    y: int = 0\n",
    "    radius: int = 1 "
   ]
  },
  {
   "cell_type": "code",
   "execution_count": 7,
   "id": "d9c06c77",
   "metadata": {},
   "outputs": [
    {
     "data": {
      "text/plain": [
       "CircleD(x=0, y=0, radius=1)"
      ]
     },
     "execution_count": 7,
     "metadata": {},
     "output_type": "execute_result"
    }
   ],
   "source": [
    "c2 = CircleD()\n",
    "c2"
   ]
  },
  {
   "cell_type": "code",
   "execution_count": 10,
   "id": "af6fab7a",
   "metadata": {},
   "outputs": [
    {
     "data": {
      "text/plain": [
       "True"
      ]
     },
     "execution_count": 10,
     "metadata": {},
     "output_type": "execute_result"
    }
   ],
   "source": [
    "c3 = CircleD(1, 1, 5)\n",
    "c4 = CircleD(1, 1, 5)\n",
    "c3 == c4\n"
   ]
  },
  {
   "cell_type": "markdown",
   "id": "259dd1b6",
   "metadata": {},
   "source": [
    "back to plain python "
   ]
  },
  {
   "cell_type": "code",
   "execution_count": 8,
   "id": "1bbf48c5",
   "metadata": {},
   "outputs": [],
   "source": [
    "class Circle:\n",
    "    def __init__(self, x: int = 0, y: int = 0, radius: int = 1):\n",
    "        self.x = x\n",
    "        self.y = y\n",
    "        self.radius = radius\n",
    "\n",
    "    def __repr__(self):\n",
    "        return f\"{self.__class__.__qualname__}(x={self.x}, y={self.y}, radius={self.radius})\"\n",
    "    \n",
    "    def __eq__(self, other):\n",
    "        if self.__class__ == other.__class__:\n",
    "            return (self.x, self.y, self.radius) == (other.x, other.y, other.radius)\n",
    "        return NotImplemented"
   ]
  },
  {
   "cell_type": "code",
   "execution_count": 9,
   "id": "e6e200f4",
   "metadata": {},
   "outputs": [
    {
     "data": {
      "text/plain": [
       "(False, True)"
      ]
     },
     "execution_count": 9,
     "metadata": {},
     "output_type": "execute_result"
    }
   ],
   "source": [
    "c1 = Circle(0, 0, 1)\n",
    "c2 = Circle(0, 0, 1)\n",
    "\n",
    "c1 is c2, c1 == c2"
   ]
  },
  {
   "cell_type": "markdown",
   "id": "719bb592",
   "metadata": {},
   "source": [
    "hash for plain python"
   ]
  },
  {
   "cell_type": "code",
   "execution_count": 11,
   "id": "92438c96",
   "metadata": {},
   "outputs": [],
   "source": [
    "class Circle:\n",
    "    def __init__(self, x: int = 0, y: int = 0, radius: int = 1):\n",
    "        self.x = x\n",
    "        self.y = y\n",
    "        self.radius = radius\n",
    "\n",
    "    def __repr__(self):\n",
    "        return f\"{self.__class__.__qualname__}(x={self.x}, y={self.y}, radius={self.radius})\"\n",
    "    \n",
    "    def __eq__(self, other):\n",
    "        if self.__class__ == other.__class__:\n",
    "            return (self.x, self.y, self.radius) == (other.x, other.y, other.radius)\n",
    "        return NotImplemented\n",
    "    \n",
    "    def __hash__(self):\n",
    "        return hash((self.x, self.y, self.radius))"
   ]
  },
  {
   "cell_type": "code",
   "execution_count": 12,
   "id": "60722d86",
   "metadata": {},
   "outputs": [
    {
     "data": {
      "text/plain": [
       "(True, True)"
      ]
     },
     "execution_count": 12,
     "metadata": {},
     "output_type": "execute_result"
    }
   ],
   "source": [
    "c1 = Circle(0, 0, 1)\n",
    "c2 = Circle(0, 0, 1)\n",
    "c1 == c2, hash(c1) == hash(c2)\n"
   ]
  },
  {
   "cell_type": "markdown",
   "id": "b161b972",
   "metadata": {},
   "source": [
    "\n",
    "Immutability\n",
    "\n",
    "To make our custom class implementation better we need to make the attributes used in the hash, x, y, and radius immutable.\n",
    "\n",
    "Let's add even more boilerplate code to our class:\n"
   ]
  },
  {
   "cell_type": "code",
   "execution_count": 13,
   "id": "8f4cb499",
   "metadata": {},
   "outputs": [],
   "source": [
    "class Circle:\n",
    "    def __init__(self, x: int = 0, y: int = 0, radius: int = 1):\n",
    "        self._x = x\n",
    "        self._y = y\n",
    "        self._radius = radius\n",
    "\n",
    "    @property\n",
    "    def x(self):\n",
    "        return self._x\n",
    "    \n",
    "    @property\n",
    "    def y(self):\n",
    "        return self._y\n",
    "    \n",
    "    @property\n",
    "    def radius(self):\n",
    "        return self._radius\n",
    "    \n",
    "    def __repr__(self):\n",
    "        return f\"{self.__class__.__qualname__}(x={self.x}, y={self.y}, radius={self.radius})\"\n",
    "    \n",
    "    def __eq__(self, other):\n",
    "        if self.__class__ == other.__class__:\n",
    "            return (self.x, self.y, self.radius) == (other.x, other.y, other.radius)\n",
    "        return NotImplemented\n",
    "    \n",
    "    def __hash__(self):\n",
    "        return hash((self.x, self.y, self.radius))"
   ]
  },
  {
   "cell_type": "markdown",
   "id": "5ad1e6d8",
   "metadata": {},
   "source": [
    "dataclass immutable"
   ]
  },
  {
   "cell_type": "code",
   "execution_count": 14,
   "id": "b04d25d0",
   "metadata": {},
   "outputs": [
    {
     "data": {
      "text/plain": [
       "(CircleD(x=0, y=0, radius=1),\n",
       " CircleD(x=1, y=1, radius=1),\n",
       " CircleD(x=0, y=0, radius=1))"
      ]
     },
     "execution_count": 14,
     "metadata": {},
     "output_type": "execute_result"
    }
   ],
   "source": [
    "@dataclass(frozen=True)\n",
    "class CircleD:\n",
    "    x: int = 0\n",
    "    y: int = 0\n",
    "    radius: int = 1\n",
    "\n",
    "c3 = CircleD()\n",
    "c4 = CircleD(1, 1, 1)\n",
    "c5 = CircleD()\n",
    "c3, c4, c5\n",
    "\n"
   ]
  },
  {
   "cell_type": "code",
   "execution_count": 15,
   "id": "1dc9b415",
   "metadata": {},
   "outputs": [
    {
     "data": {
      "text/plain": [
       "(True, False)"
      ]
     },
     "execution_count": 15,
     "metadata": {},
     "output_type": "execute_result"
    }
   ],
   "source": [
    "c3 == c5, c4 == c5"
   ]
  },
  {
   "cell_type": "code",
   "execution_count": 16,
   "id": "ba0b79d3",
   "metadata": {},
   "outputs": [
    {
     "data": {
      "text/plain": [
       "(True, False)"
      ]
     },
     "execution_count": 16,
     "metadata": {},
     "output_type": "execute_result"
    }
   ],
   "source": [
    "c3 == c5, c4 == c5"
   ]
  },
  {
   "cell_type": "markdown",
   "id": "2af82a58",
   "metadata": {},
   "source": [
    "Adding __lt__, __le__, __gt__, __ge__ to plain python "
   ]
  },
  {
   "cell_type": "code",
   "execution_count": 3,
   "id": "53ae2cf9",
   "metadata": {},
   "outputs": [],
   "source": [
    "class Circle:\n",
    "    def __init__(self, x: int = 0, y: int = 0, radius: int = 1):\n",
    "        self._x = x\n",
    "        self._y = y\n",
    "        self._radius = radius\n",
    "\n",
    "    @property\n",
    "    def x(self):\n",
    "        return self._x\n",
    "    \n",
    "    @property\n",
    "    def y(self):\n",
    "        return self._y\n",
    "    \n",
    "    @property\n",
    "    def radius(self):\n",
    "        return self._radius\n",
    "    \n",
    "    def __repr__(self):\n",
    "        return f\"{self.__class__.__qualname__}(x={self.x}, y={self.y}, radius={self.radius})\"\n",
    "    \n",
    "    def __eq__(self, other):\n",
    "        if self.__class__ == other.__class__:\n",
    "            return (self.x, self.y, self.radius) == (other.x, other.y, other.radius)\n",
    "        return NotImplemented\n",
    "    \n",
    "    def __hash__(self):\n",
    "        return hash((self.x, self.y, self.radius))\n",
    "    \n",
    "    def __lt__(self, other):\n",
    "        if self.__class__ == other.__class__:\n",
    "            return (self.x, self.y, self.radius) < (other.x, other.y, other.radius)\n",
    "        return NotImplemented"
   ]
  },
  {
   "cell_type": "code",
   "execution_count": 4,
   "id": "f8a4b4af",
   "metadata": {},
   "outputs": [
    {
     "data": {
      "text/plain": [
       "True"
      ]
     },
     "execution_count": 4,
     "metadata": {},
     "output_type": "execute_result"
    }
   ],
   "source": [
    "c1 = Circle(0, 0, 1)\n",
    "c2 = Circle(1, 1, 1)\n",
    "c1 < c2\n",
    "\n"
   ]
  },
  {
   "cell_type": "markdown",
   "id": "77da946a",
   "metadata": {},
   "source": [
    "dataclass implementations"
   ]
  },
  {
   "cell_type": "code",
   "execution_count": 6,
   "id": "61efd2e7",
   "metadata": {},
   "outputs": [],
   "source": [
    "from dataclasses import dataclass\n",
    "@dataclass(frozen=True, order=True)\n",
    "class CircleD:\n",
    "    x: int = 0\n",
    "    y: int = 0\n",
    "    radius: int = 1"
   ]
  },
  {
   "cell_type": "code",
   "execution_count": 7,
   "id": "9f64e94d",
   "metadata": {},
   "outputs": [
    {
     "data": {
      "text/plain": [
       "(True, True, True, True)"
      ]
     },
     "execution_count": 7,
     "metadata": {},
     "output_type": "execute_result"
    }
   ],
   "source": [
    "c1 = CircleD()\n",
    "c2 = CircleD(1, 1, 1)\n",
    "\n",
    "c1 < c2, c1 <= c2, c2 > c1, c2 >= c1\n"
   ]
  },
  {
   "cell_type": "markdown",
   "id": "5cfe991f",
   "metadata": {},
   "source": [
    "Dataclasses Serialization"
   ]
  },
  {
   "cell_type": "code",
   "execution_count": 8,
   "id": "982297a5",
   "metadata": {},
   "outputs": [],
   "source": [
    "from dataclasses import asdict, astuple"
   ]
  },
  {
   "cell_type": "code",
   "execution_count": 9,
   "id": "9273f965",
   "metadata": {},
   "outputs": [
    {
     "data": {
      "text/plain": [
       "{'x': 0, 'y': 0, 'radius': 1}"
      ]
     },
     "execution_count": 9,
     "metadata": {},
     "output_type": "execute_result"
    }
   ],
   "source": [
    "c1 = CircleD()\n",
    "\n",
    "asdict(c1)\n",
    "\n"
   ]
  },
  {
   "cell_type": "code",
   "execution_count": 10,
   "id": "29ea217d",
   "metadata": {},
   "outputs": [
    {
     "data": {
      "text/plain": [
       "(0, 0, 1)"
      ]
     },
     "execution_count": 10,
     "metadata": {},
     "output_type": "execute_result"
    }
   ],
   "source": [
    "astuple(c1)"
   ]
  },
  {
   "cell_type": "markdown",
   "id": "ea30c214",
   "metadata": {},
   "source": [
    "If we wanted something similar in our custom class, we would have to write that code ourselves."
   ]
  },
  {
   "cell_type": "code",
   "execution_count": 11,
   "id": "40748573",
   "metadata": {},
   "outputs": [],
   "source": [
    "from functools import total_ordering\n"
   ]
  },
  {
   "cell_type": "code",
   "execution_count": 12,
   "id": "ff435112",
   "metadata": {},
   "outputs": [],
   "source": [
    "@total_ordering\n",
    "class Circle:\n",
    "    def __init__(self, x: int = 0, y: int = 0, radius: int = 1):\n",
    "        self._x = x\n",
    "        self._y = y\n",
    "        self._radius = radius\n",
    "\n",
    "    @property\n",
    "    def x(self):\n",
    "        return self._x\n",
    "    \n",
    "    @property\n",
    "    def y(self):\n",
    "        return self._y\n",
    "    \n",
    "    @property\n",
    "    def radius(self):\n",
    "        return self._radius\n",
    "    \n",
    "    def __repr__(self):\n",
    "        return f\"{self.__class__.__qualname__}(x={self.x}, y={self.y}, radius={self.radius})\"\n",
    "    \n",
    "    def __eq__(self, other):\n",
    "        if self.__class__ == other.__class__:\n",
    "            return (self.x, self.y, self.radius) == (other.x, other.y, other.radius)\n",
    "        return NotImplemented\n",
    "    \n",
    "    def __hash__(self):\n",
    "        return hash((self.x, self.y, self.radius))\n",
    "    \n",
    "    def __lt__(self, other):\n",
    "        if self.__class__ == other.__class__:\n",
    "            return (self.x, self.y, self.radius) < (other.x, other.y, other.radius)\n",
    "        return NotImplemented\n",
    "    \n",
    "    def asdict(self):\n",
    "        return {\n",
    "            'x': self.x,\n",
    "            'y': self.y,\n",
    "            'radius': self.radius\n",
    "        }\n",
    "    \n",
    "    def astuple(self):\n",
    "        return self.x, self.y, self.radius"
   ]
  },
  {
   "cell_type": "code",
   "execution_count": 13,
   "id": "d6383b5d",
   "metadata": {},
   "outputs": [
    {
     "data": {
      "text/plain": [
       "{'x': 0, 'y': 0, 'radius': 1}"
      ]
     },
     "execution_count": 13,
     "metadata": {},
     "output_type": "execute_result"
    }
   ],
   "source": [
    "c1 = Circle()\n",
    "c1.asdict()"
   ]
  },
  {
   "cell_type": "code",
   "execution_count": 14,
   "id": "9164ed76",
   "metadata": {},
   "outputs": [
    {
     "data": {
      "text/plain": [
       "(0, 0, 1)"
      ]
     },
     "execution_count": 14,
     "metadata": {},
     "output_type": "execute_result"
    }
   ],
   "source": [
    "c1.astuple()"
   ]
  },
  {
   "cell_type": "markdown",
   "id": "6762dc11",
   "metadata": {},
   "source": [
    "Adding Methods and Properties to Dataclasses"
   ]
  },
  {
   "cell_type": "code",
   "execution_count": 18,
   "id": "fe856623",
   "metadata": {},
   "outputs": [
    {
     "data": {
      "text/plain": [
       "(3.141592653589793, 6.283185307179586)"
      ]
     },
     "execution_count": 18,
     "metadata": {},
     "output_type": "execute_result"
    }
   ],
   "source": [
    "from math import pi\n",
    "\n",
    "@dataclass(frozen=True, order=True)\n",
    "class CircleD:\n",
    "    x: int = 0\n",
    "    y: int = 0\n",
    "    radius: int = 1\n",
    "        \n",
    "    @property\n",
    "    def area(self):\n",
    "        return pi * self.radius ** 2\n",
    "    \n",
    "    def circumference(self):\n",
    "        return 2 * pi * self.radius\n",
    "\n",
    "c = CircleD()\n",
    "c.area, c.circumference()\n"
   ]
  },
  {
   "cell_type": "markdown",
   "id": "0a69eee3",
   "metadata": {},
   "source": [
    "Overriding in dataclass"
   ]
  },
  {
   "cell_type": "code",
   "execution_count": 21,
   "id": "2bfeb818",
   "metadata": {},
   "outputs": [],
   "source": [
    "from math import pi, dist\n",
    "@total_ordering\n",
    "@dataclass(frozen=True)\n",
    "class CircleD:\n",
    "    x: int = 0\n",
    "    y: int = 0\n",
    "    radius: int = 1\n",
    "        \n",
    "    @property\n",
    "    def area(self):\n",
    "        return pi * self.radius ** 2\n",
    "    \n",
    "    def circumference(self):\n",
    "        return 2 * pi * self.radius\n",
    "    \n",
    "    def __lt__(self, other):\n",
    "        if self.__class__ == other.__class__:\n",
    "            return dist((0, 0), (self.x, self.y)) < dist((0, 0), (other.x, other.y))\n",
    "        return NotImplemented"
   ]
  },
  {
   "cell_type": "code",
   "execution_count": 22,
   "id": "b9f65a3b",
   "metadata": {},
   "outputs": [
    {
     "data": {
      "text/plain": [
       "True"
      ]
     },
     "execution_count": 22,
     "metadata": {},
     "output_type": "execute_result"
    }
   ],
   "source": [
    "c1 = CircleD(2, 2, 10)\n",
    "c2 = CircleD(3, 3, 100)\n",
    "\n",
    "c1 <= c2"
   ]
  },
  {
   "cell_type": "markdown",
   "id": "7ff5ce14",
   "metadata": {},
   "source": [
    "If we wanted to make all the arguments in our __init__ keyword-only arguments, it's even simpler:"
   ]
  },
  {
   "cell_type": "code",
   "execution_count": 25,
   "id": "02b53c50",
   "metadata": {},
   "outputs": [
    {
     "data": {
      "text/plain": [
       "CircleD(x=0, y=0, radius=1)"
      ]
     },
     "execution_count": 25,
     "metadata": {},
     "output_type": "execute_result"
    }
   ],
   "source": [
    "@dataclass(frozen=True, order=True, kw_only=True)\n",
    "class CircleD:\n",
    "    x: int = 0\n",
    "    y: int = 0\n",
    "    radius: int = 1\n",
    "\n",
    "c = CircleD(x=0, y=0, radius=1)\n",
    "c\n"
   ]
  }
 ],
 "metadata": {
  "kernelspec": {
   "display_name": "Python 3 (ipykernel)",
   "language": "python",
   "name": "python3"
  },
  "language_info": {
   "codemirror_mode": {
    "name": "ipython",
    "version": 3
   },
   "file_extension": ".py",
   "mimetype": "text/x-python",
   "name": "python",
   "nbconvert_exporter": "python",
   "pygments_lexer": "ipython3",
   "version": "3.10.5"
  }
 },
 "nbformat": 4,
 "nbformat_minor": 5
}
