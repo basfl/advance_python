{
  "nbformat": 4,
  "nbformat_minor": 0,
  "metadata": {
    "colab": {
      "provenance": []
    },
    "kernelspec": {
      "name": "python3",
      "display_name": "Python 3"
    },
    "language_info": {
      "name": "python"
    }
  },
  "cells": [
    {
      "cell_type": "code",
      "execution_count": 2,
      "metadata": {
        "colab": {
          "base_uri": "https://localhost:8080/"
        },
        "id": "WIytn5osUuPv",
        "outputId": "6c943ee7-7752-4ab0-c692-1ef7f518b734"
      },
      "outputs": [
        {
          "output_type": "stream",
          "name": "stdout",
          "text": [
            "Looking in indexes: https://pypi.org/simple, https://us-python.pkg.dev/colab-wheels/public/simple/\n",
            "Collecting Faker\n",
            "  Downloading Faker-15.1.1-py3-none-any.whl (1.6 MB)\n",
            "\u001b[K     |████████████████████████████████| 1.6 MB 6.8 MB/s \n",
            "\u001b[?25hRequirement already satisfied: python-dateutil>=2.4 in /usr/local/lib/python3.7/dist-packages (from Faker) (2.8.2)\n",
            "Requirement already satisfied: typing-extensions>=3.10.0.1 in /usr/local/lib/python3.7/dist-packages (from Faker) (4.1.1)\n",
            "Requirement already satisfied: six>=1.5 in /usr/local/lib/python3.7/dist-packages (from python-dateutil>=2.4->Faker) (1.15.0)\n",
            "Installing collected packages: Faker\n",
            "Successfully installed Faker-15.1.1\n"
          ]
        }
      ],
      "source": [
        "!pip install Faker"
      ]
    },
    {
      "cell_type": "code",
      "source": [
        "from faker import Faker"
      ],
      "metadata": {
        "id": "dajihkQuVZ7c"
      },
      "execution_count": 3,
      "outputs": []
    },
    {
      "cell_type": "code",
      "source": [
        "Faker.seed(0)\n",
        "fake = Faker()\n",
        "for _ in range(10):\n",
        "    print(fake.name())"
      ],
      "metadata": {
        "colab": {
          "base_uri": "https://localhost:8080/"
        },
        "id": "fyy48Rg4ViOZ",
        "outputId": "444dda61-ad11-4154-e7b8-740812ecb845"
      },
      "execution_count": 4,
      "outputs": [
        {
          "output_type": "stream",
          "name": "stdout",
          "text": [
            "Norma Fisher\n",
            "Jorge Sullivan\n",
            "Elizabeth Woods\n",
            "Susan Wagner\n",
            "Peter Montgomery\n",
            "Theodore Mcgrath\n",
            "Stephanie Collins\n",
            "Stephanie Sutton\n",
            "Brian Hamilton\n",
            "Susan Levy\n"
          ]
        }
      ]
    },
    {
      "cell_type": "markdown",
      "source": [
        "You can find docs for all the various categories of synthetoc data (called \"providers\") [here](https://faker.readthedocs.io/en/master/providers.html)"
      ],
      "metadata": {
        "id": "NuC4ePARV8Qd"
      }
    },
    {
      "cell_type": "code",
      "source": [
        "Faker.seed(0)\n",
        "faker = Faker()\n",
        "\n",
        "for _ in range(10):\n",
        "    print(\n",
        "        faker.prefix_female(), \n",
        "        faker.first_name_female(), \n",
        "        faker.last_name()\n",
        "    )"
      ],
      "metadata": {
        "colab": {
          "base_uri": "https://localhost:8080/"
        },
        "id": "9miI3hcvWLWd",
        "outputId": "9ead6132-25cc-4886-cda2-9718d373be8a"
      },
      "execution_count": 5,
      "outputs": [
        {
          "output_type": "stream",
          "name": "stdout",
          "text": [
            "Dr. Norma Fisher\n",
            "Mrs. Kayla Sullivan\n",
            "Dr. Elizabeth Woods\n",
            "Ms. Susan Wagner\n",
            "Mrs. Nicole Montgomery\n",
            "Mrs. Susan Mcgrath\n",
            "Dr. Stephanie Collins\n",
            "Dr. Stephanie Sutton\n",
            "Mrs. Ashlee Hamilton\n",
            "Miss Susan Levy\n"
          ]
        }
      ]
    },
    {
      "cell_type": "code",
      "source": [
        "Faker.seed(0)\n",
        "for _ in range(10):\n",
        "    print(faker.address())\n",
        "    print('=' * 20)"
      ],
      "metadata": {
        "colab": {
          "base_uri": "https://localhost:8080/"
        },
        "id": "IP_jmsTcXAhv",
        "outputId": "be76d418-2c3c-4fbf-8fdc-cfc4600663a5"
      },
      "execution_count": 6,
      "outputs": [
        {
          "output_type": "stream",
          "name": "stdout",
          "text": [
            "48764 Howard Forge Apt. 421\n",
            "Vanessaside, PA 19763\n",
            "====================\n",
            "578 Michael Island\n",
            "New Thomas, NC 34644\n",
            "====================\n",
            "60975 Jessica Squares\n",
            "East Sallybury, FL 71671\n",
            "====================\n",
            "8714 Mann Plaza\n",
            "Lisaside, PA 72227\n",
            "====================\n",
            "96593 White View Apt. 094\n",
            "Jonesberg, FL 05565\n",
            "====================\n",
            "848 Melissa Springs Suite 947\n",
            "Kellerstad, MD 80819\n",
            "====================\n",
            "30413 Norton Isle Suite 012\n",
            "North Lisa, ND 79428\n",
            "====================\n",
            "39916 Mitchell Crescent\n",
            "New Andrewburgh, DE 63315\n",
            "====================\n",
            "086 Mary Cliff\n",
            "North Deborah, NE 24135\n",
            "====================\n",
            "91634 Strong Mountains Apt. 302\n",
            "West Alyssa, PA 58475\n",
            "====================\n"
          ]
        }
      ]
    },
    {
      "cell_type": "code",
      "source": [
        "Faker.seed(0)\n",
        "\n",
        "for _ in range(10):\n",
        "    print(faker.building_number(), faker.street_name(), faker.city(), faker.postcode(), faker.country())"
      ],
      "metadata": {
        "colab": {
          "base_uri": "https://localhost:8080/"
        },
        "id": "O069pTIRXNyH",
        "outputId": "c601f3bb-4d26-428c-c353-08d3ff1bb94f"
      },
      "execution_count": 7,
      "outputs": [
        {
          "output_type": "stream",
          "name": "stdout",
          "text": [
            "6048 Sullivan Tunnel Tammystad 76966 Uganda\n",
            "82421 Archer Place West Corey 10166 United Arab Emirates\n",
            "578 Michael Island New Thomas 68835 Eritrea\n",
            "80160 Clayton Isle Lake Mark 08756 Comoros\n",
            "332 Davis Island Rodriguezside 38654 Romania\n",
            "85839 Wallace Ranch Stewartbury 38555 Colombia\n",
            "20947 Christopher Throughway East Sandra 11019 Ukraine\n",
            "868 Boyd Freeway Lake Brittany 55475 Morocco\n",
            "7751 Salazar Oval Meganbury 02625 Saint Martin\n",
            "1352 Simmons Circle Port Dustinbury 06429 Svalbard & Jan Mayen Islands\n"
          ]
        }
      ]
    },
    {
      "cell_type": "markdown",
      "source": [
        "Also, note that not all providers support all locales - to see what locales are available, and what providers are supported for each locale, see [here](https://faker.readthedocs.io/en/master/locales.html)"
      ],
      "metadata": {
        "id": "TOZceclcY8Nw"
      }
    },
    {
      "cell_type": "code",
      "source": [
        "Faker.seed(0)\n",
        "faker = Faker(['fa_IR'])\n",
        "\n",
        "for _ in range(10):\n",
        "    print(faker.address())\n",
        "    print('=' * 20)"
      ],
      "metadata": {
        "colab": {
          "base_uri": "https://localhost:8080/"
        },
        "id": "tRE4jPnrZgka",
        "outputId": "04fbe864-b567-49ab-96b9-7a3bd25be95f"
      },
      "execution_count": 10,
      "outputs": [
        {
          "output_type": "stream",
          "name": "stdout",
          "text": [
            "48764 ربانی بن بست سوئیت 421\n",
            "شهرستان آراد, بوشهر 11578\n",
            "====================\n",
            "5938 عباسی جنب سوئیت 801\n",
            "استان آرمين, آذربایجان شرقی 7535139332\n",
            "====================\n",
            "58714 علی پور دره\n",
            "شهرستان زهرا, سیستان و بلوچستان 196593\n",
            "====================\n",
            "20947 سارینا میدان\n",
            "شمال فاطمه زهرا, گلستان 4833969477\n",
            "====================\n",
            "9179 خسروجردی بلوار\n",
            "بندر كیانا, خراسان شمالی 25601\n",
            "====================\n",
            "98910 عرفان بن بست\n",
            "روستای نازنین, کرمانشاه 090\n",
            "====================\n",
            "173 محمدحسين کوچه\n",
            "باغات آیلین, زنجان 314\n",
            "====================\n",
            "08709 محمدامين جزیره سوئیت 457\n",
            "استان زهرا, خراسان 2584\n",
            "====================\n",
            "207 نامور تقاطع واحد 642\n",
            "دهستان مبين, گیلان 08423\n",
            "====================\n",
            "459 طاها تقاطع واحد 610\n",
            "شهر الینا, خوزستان 7696\n",
            "====================\n"
          ]
        }
      ]
    },
    {
      "cell_type": "code",
      "source": [
        "for _ in range(10):\n",
        "    print(faker.name())"
      ],
      "metadata": {
        "colab": {
          "base_uri": "https://localhost:8080/"
        },
        "id": "QfM-xIxrZw7v",
        "outputId": "fc2d0fd4-c37f-4d34-f1ff-d994e9938bdd"
      },
      "execution_count": 11,
      "outputs": [
        {
          "output_type": "stream",
          "name": "stdout",
          "text": [
            "ستايش لاچینی\n",
            "محمدپارسا نعمتی\n",
            "مبين دایی\n",
            "عسل عبدالعلی\n",
            "معصومه جعفر پور\n",
            "محمدياسين صنایعی\n",
            "آرين کمالی\n",
            "نازنین زهرا جهانی\n",
            "سرکار خانم دکتر آيناز حمیدی\n",
            "امیررضا میردامادی\n"
          ]
        }
      ]
    },
    {
      "cell_type": "code",
      "source": [
        "fake = Faker(['en_US', 'fr_FR', 'es_ES'])\n",
        "Faker.seed(0)\n",
        "for _ in range(10):\n",
        "    print(fake.name())"
      ],
      "metadata": {
        "colab": {
          "base_uri": "https://localhost:8080/"
        },
        "id": "wWBA2-nPZ3yC",
        "outputId": "530535c8-f63a-48bb-f449-1dee6190c1de"
      },
      "execution_count": 12,
      "outputs": [
        {
          "output_type": "stream",
          "name": "stdout",
          "text": [
            "Alice Poirier\n",
            "Alice Poirier\n",
            "Alice Poirier\n",
            "Alice Poirier\n",
            "Alice Poirier\n",
            "Alice Poirier\n",
            "Alice Poirier\n",
            "Alice Poirier\n",
            "Alice Poirier\n",
            "Alice Poirier\n"
          ]
        }
      ]
    },
    {
      "cell_type": "markdown",
      "source": [
        "\n",
        "\n",
        "As you can see though, this is not working as expected. So, we have something that works for single locales, but not multiple locales. (It seems that setting the seed produces this bug - if you don't set a seed, or use Faker.seed(), then things appear to work fine)\n",
        "\n",
        "To get around this, we'll use Python's random.choices function to pick the \"next\" value from a choice of possible single-locale providers.\n"
      ],
      "metadata": {
        "id": "NHHrxieTaCt6"
      }
    },
    {
      "cell_type": "code",
      "source": [
        "locales = ['en_US', 'fr_FR', 'es_ES']\n",
        "providers = [Faker(locale) for locale in locales]"
      ],
      "metadata": {
        "id": "HjFOlvPGaDp1"
      },
      "execution_count": 13,
      "outputs": []
    },
    {
      "cell_type": "code",
      "source": [
        "from random import choice, choices, seed\n",
        "provider = lambda: choice(providers)"
      ],
      "metadata": {
        "id": "9ZXjiXLHaH7M"
      },
      "execution_count": 14,
      "outputs": []
    },
    {
      "cell_type": "markdown",
      "source": [
        "This provider function will give us a random provider, which we can use to get the next value:"
      ],
      "metadata": {
        "id": "iGv7ziLoaTms"
      }
    },
    {
      "cell_type": "code",
      "source": [
        "Faker.seed(0)\n",
        "seed(0)\n",
        "for _ in range(10):\n",
        "    print(provider().name())"
      ],
      "metadata": {
        "colab": {
          "base_uri": "https://localhost:8080/"
        },
        "id": "fx4j_VFPaWsM",
        "outputId": "d5c4f21f-b2b7-4cb9-8d78-254eac8e74a0"
      },
      "execution_count": 15,
      "outputs": [
        {
          "output_type": "stream",
          "name": "stdout",
          "text": [
            "Paulette Fournier\n",
            "Pierre-Patrick Lebon\n",
            "Sandra Faulkner\n",
            "Gabrielle Bodin\n",
            "Epifanio Chaves Bustamante\n",
            "Jeannine Rossi de la Ruiz\n",
            "Auguste Pottier\n",
            "Sylvie Vaillant\n",
            "Joseph Gay\n",
            "Emmanuelle Courtois\n"
          ]
        }
      ]
    },
    {
      "cell_type": "markdown",
      "source": [
        "We can modify this slightly to gives us the ability to weigh the choices of local providers. We simply use Python's random.choices function which allows us to specify weights:"
      ],
      "metadata": {
        "id": "fA5CZm68bDUo"
      }
    },
    {
      "cell_type": "code",
      "source": [
        "locales = ['fa_IR', 'en_US']\n",
        "weights = [1, 2]\n",
        "providers = [Faker(locale) for locale in locales]\n",
        "provider = lambda: choices(providers, weights=weights, k=1)[0]"
      ],
      "metadata": {
        "id": "9LXTmX-QbEHb"
      },
      "execution_count": 18,
      "outputs": []
    },
    {
      "cell_type": "code",
      "source": [
        "Faker.seed(0)\n",
        "seed(0)\n",
        "for _ in range(10):\n",
        "    print(provider().name())\n",
        "\n"
      ],
      "metadata": {
        "colab": {
          "base_uri": "https://localhost:8080/"
        },
        "id": "FoikXKH6bMj-",
        "outputId": "68a677af-9af1-44ba-d9ef-8ec40c52a35e"
      },
      "execution_count": 19,
      "outputs": [
        {
          "output_type": "stream",
          "name": "stdout",
          "text": [
            "Norma Fisher\n",
            "Jorge Sullivan\n",
            "Elizabeth Woods\n",
            "نیما اشتری\n",
            "Charles Davis\n",
            "Victoria Patel\n",
            "Lindsay Thomas\n",
            "آوا احمدی\n",
            "Melinda Kennedy\n",
            "Jeffrey Carr\n"
          ]
        }
      ]
    },
    {
      "cell_type": "markdown",
      "source": [
        "### Unique Values"
      ],
      "metadata": {
        "id": "hxNGJmotbmM1"
      }
    },
    {
      "cell_type": "code",
      "source": [
        "Faker.seed(0)\n",
        "faker = Faker()\n",
        "for _ in range(10):\n",
        "    print(faker.unique.ssn())"
      ],
      "metadata": {
        "colab": {
          "base_uri": "https://localhost:8080/"
        },
        "id": "lNKH1xt0bnVU",
        "outputId": "66ac1a42-3970-4072-ffd0-ae395f98aae0"
      },
      "execution_count": 20,
      "outputs": [
        {
          "output_type": "stream",
          "name": "stdout",
          "text": [
            "865-50-6891\n",
            "042-34-8377\n",
            "498-52-4970\n",
            "489-46-9559\n",
            "224-65-2282\n",
            "289-18-1554\n",
            "634-33-8726\n",
            "723-78-2408\n",
            "318-13-1209\n",
            "871-88-5410\n"
          ]
        }
      ]
    },
    {
      "cell_type": "code",
      "source": [
        "from faker.exceptions import UniquenessException\n",
        "faker = Faker()\n",
        "try:\n",
        "    for _ in range(244):\n",
        "        faker.unique.country()\n",
        "except UniquenessException:\n",
        "    print('Not enough unique values available')"
      ],
      "metadata": {
        "colab": {
          "base_uri": "https://localhost:8080/"
        },
        "id": "3vIZjcw2cFjj",
        "outputId": "9204c38e-8f9b-4f29-f61a-ab9914e7d2c1"
      },
      "execution_count": 21,
      "outputs": [
        {
          "output_type": "stream",
          "name": "stdout",
          "text": [
            "Not enough unique values available\n"
          ]
        }
      ]
    },
    {
      "cell_type": "markdown",
      "source": [
        "### Other Providers"
      ],
      "metadata": {
        "id": "x3-4EGYQc7Gi"
      }
    },
    {
      "cell_type": "code",
      "source": [
        "Faker.seed(0)\n",
        "faker = Faker()\n",
        "\n",
        "print('ssn:', faker.ssn())\n",
        "print('color name:', faker.color_name())\n",
        "print('isbn-10:', faker.isbn10())\n",
        "print('company email:', faker.company_email())\n",
        "print('bank IBAN:', faker.iban())\n",
        "print('User agent:', faker.user_agent())"
      ],
      "metadata": {
        "colab": {
          "base_uri": "https://localhost:8080/"
        },
        "id": "n1ZmbWT8c9Z7",
        "outputId": "1bb48ee9-bfcf-4c1b-e9c5-c19144f1a077"
      },
      "execution_count": 22,
      "outputs": [
        {
          "output_type": "stream",
          "name": "stdout",
          "text": [
            "ssn: 865-50-6891\n",
            "color name: BlueViolet\n",
            "isbn-10: 1-64759-382-4\n",
            "company email: donald19@archer-patel.org\n",
            "bank IBAN: GB17EJDX15781565938778\n",
            "User agent: Mozilla/5.0 (compatible; MSIE 5.0; Windows NT 10.0; Trident/5.0)\n"
          ]
        }
      ]
    },
    {
      "cell_type": "markdown",
      "source": [
        "\n",
        "The Python Provider\n",
        "\n",
        "There is also one very interesting provider, called the python provider - docs for this provider are [here](https://faker.readthedocs.io/en/master/providers/faker.providers.python.html).\n",
        "\n",
        "We can use it to generate Python objects, such as lists, dictionaries, etc.\n"
      ],
      "metadata": {
        "id": "7GOflt5YdLxa"
      }
    },
    {
      "cell_type": "code",
      "source": [
        "Faker.seed(0)\n",
        "faker = Faker()\n",
        "\n",
        "for _ in range(10):\n",
        "    data = faker.pylist(\n",
        "        nb_elements=6,\n",
        "        variable_nb_elements=False,\n",
        "        value_types= ['bool', 'int'],\n",
        "    )\n",
        "    print(data)"
      ],
      "metadata": {
        "colab": {
          "base_uri": "https://localhost:8080/"
        },
        "id": "wjrnuV1zdXYr",
        "outputId": "bf761010-5b73-4e3d-eaeb-b099967a1d44"
      },
      "execution_count": 23,
      "outputs": [
        {
          "output_type": "stream",
          "name": "stdout",
          "text": [
            "[6890, True, 6634, 7808, 9558, False]\n",
            "[2289, True, True, False, 7735, True]\n",
            "[5180, True, 8541, 1020, False, 18]\n",
            "[5458, True, False, False, True, False]\n",
            "[8322, 1786, 9031, 2044, 8852, True]\n",
            "[1501, 5194, True, False, False, 7807]\n",
            "[False, False, False, 8594, 8549, False]\n",
            "[9497, 7382, 5855, True, True, 3119]\n",
            "[False, 1919, True, True, 1018, False]\n",
            "[False, False, False, True, True, False]\n"
          ]
        }
      ]
    },
    {
      "cell_type": "code",
      "source": [
        "faker.pylist(nb_elements=10, value_types=['name', 'hostname'])"
      ],
      "metadata": {
        "colab": {
          "base_uri": "https://localhost:8080/"
        },
        "id": "vSErGVrGdzWc",
        "outputId": "184d744e-0eaf-4a04-b3b5-46cf760b0223"
      },
      "execution_count": 24,
      "outputs": [
        {
          "output_type": "execute_result",
          "data": {
            "text/plain": [
              "['Wesley Robbins',\n",
              " 'srv-00.coleman.com',\n",
              " 'Hayley White',\n",
              " 'db-91.mcneil.info',\n",
              " 'Christina Saunders',\n",
              " 'Gloria King',\n",
              " 'email-20.maldonado-mccullough.net',\n",
              " 'email-56.king.com',\n",
              " 'email-08.taylor-gill.info',\n",
              " 'lt-45.arroyo.com',\n",
              " 'email-61.wheeler.com',\n",
              " 'Mark Gray',\n",
              " 'db-69.barton-fletcher.com']"
            ]
          },
          "metadata": {},
          "execution_count": 24
        }
      ]
    },
    {
      "cell_type": "markdown",
      "source": [
        "\n",
        "\n",
        "Another interesting one is the pystr_format function, where we can specify a format of mixed characters and digits.\n",
        "\n",
        "We use a template string to indicate the output string format we want, using # for single digit placeholder, and ? for single character placeholder.\n"
      ],
      "metadata": {
        "id": "bdqTb02FeAMy"
      }
    },
    {
      "cell_type": "code",
      "source": [
        "Faker.seed(0)\n",
        "faker = Faker()\n",
        "# ? means character & # means number\n",
        "template = 'x-??##-###-?'\n",
        "for _ in range(10):\n",
        "    print(faker.pystr_format(template))"
      ],
      "metadata": {
        "colab": {
          "base_uri": "https://localhost:8080/"
        },
        "id": "l_63p6S4eA8Q",
        "outputId": "3f38e843-01bd-4159-bdc7-72daf13830f5"
      },
      "execution_count": 26,
      "outputs": [
        {
          "output_type": "stream",
          "name": "stdout",
          "text": [
            "x-Fz66-048-Y\n",
            "x-Gi47-593-s\n",
            "x-TZ21-948-M\n",
            "x-EJ24-115-g\n",
            "x-JE56-593-C\n",
            "x-fU84-080-z\n",
            "x-Uu09-753-T\n",
            "x-Zj13-933-Z\n",
            "x-GF87-115-g\n",
            "x-vI48-418-n\n"
          ]
        }
      ]
    },
    {
      "cell_type": "markdown",
      "source": [
        "We can also limit the character set to choose from:"
      ],
      "metadata": {
        "id": "APPRC8uuev_Y"
      }
    },
    {
      "cell_type": "code",
      "source": [
        "Faker.seed(0)\n",
        "faker = Faker()\n",
        "\n",
        "template = 'x-??##-###-?'\n",
        "for _ in range(10):\n",
        "    print(faker.pystr_format(template, 'abcdefg'))"
      ],
      "metadata": {
        "colab": {
          "base_uri": "https://localhost:8080/"
        },
        "id": "gqbpFw8DewmL",
        "outputId": "9d90d8a4-e6d1-424b-ddd3-a77032a51b7a"
      },
      "execution_count": 27,
      "outputs": [
        {
          "output_type": "stream",
          "name": "stdout",
          "text": [
            "x-dd66-048-g\n",
            "x-eb47-593-c\n",
            "x-fg21-948-e\n",
            "x-de24-115-a\n",
            "x-ed56-593-d\n",
            "x-af84-080-g\n",
            "x-bf60-975-c\n",
            "x-gb13-933-g\n",
            "x-ed87-115-a\n",
            "x-cg48-418-e\n"
          ]
        }
      ]
    },
    {
      "cell_type": "markdown",
      "source": [
        "### bothify"
      ],
      "metadata": {
        "id": "PPWMfsyAe6kI"
      }
    },
    {
      "cell_type": "markdown",
      "source": [
        "Note: this pystr_format is actually using another function called bothify, documented [here](https://faker.readthedocs.io/en/master/providers/baseprovider.html), along with other functions like hexify, lexify, numerify, etc."
      ],
      "metadata": {
        "id": "q0szaGV2e8AE"
      }
    },
    {
      "cell_type": "code",
      "source": [
        "Faker.seed(0)\n",
        "faker = Faker()\n",
        "template = 'x-??##-###-?'\n",
        "for _ in range(10):\n",
        "    print(faker.bothify(template, 'abcdefg'))"
      ],
      "metadata": {
        "colab": {
          "base_uri": "https://localhost:8080/"
        },
        "id": "o3BlwT21fIvK",
        "outputId": "2d9ad0e2-fa7f-4e19-f1ac-a6769c2705dc"
      },
      "execution_count": 28,
      "outputs": [
        {
          "output_type": "stream",
          "name": "stdout",
          "text": [
            "x-dd66-048-g\n",
            "x-eb47-593-c\n",
            "x-fg21-948-e\n",
            "x-de24-115-a\n",
            "x-ed56-593-d\n",
            "x-af84-080-g\n",
            "x-bf60-975-c\n",
            "x-gb13-933-g\n",
            "x-ed87-115-a\n",
            "x-cg48-418-e\n"
          ]
        }
      ]
    },
    {
      "cell_type": "markdown",
      "source": [
        "One big difference is that pystr_format is slightly more versatile because you can use other provider functions in the template:"
      ],
      "metadata": {
        "id": "dKxd7jVpfXUk"
      }
    },
    {
      "cell_type": "code",
      "source": [
        "Faker.seed(0)\n",
        "faker = Faker()\n",
        "\n",
        "template = \"Customer: {{name}} ({{email}})\"\n",
        "for _ in range(10):\n",
        "    print(faker.pystr_format(template))"
      ],
      "metadata": {
        "colab": {
          "base_uri": "https://localhost:8080/"
        },
        "id": "iodsNxpvfYNk",
        "outputId": "9ab17d97-251a-4d28-8aae-003b6b9fa536"
      },
      "execution_count": 29,
      "outputs": [
        {
          "output_type": "stream",
          "name": "stdout",
          "text": [
            "Customer: Norma Fisher (tammy766example.com)\n",
            "Customer: Susan Wagner (donald19example.com)\n",
            "Customer: Nicholas Nolan (thomas154example.com)\n",
            "Customer: Karen Grimes (bryan801example.org)\n",
            "Customer: Samantha Cook (jane13example.net)\n",
            "Customer: Walter Pratt (udavis2example.net)\n",
            "Customer: Eddie Martinez (lisa838example.net)\n",
            "Customer: Robert Stewart (kellylopezexample.org)\n",
            "Customer: Mary Alvarez (sheltondavidexample.org)\n",
            "Customer: Stephanie Leblanc (hmasseyexample.com)\n"
          ]
        }
      ]
    },
    {
      "cell_type": "markdown",
      "source": [
        "### custom library"
      ],
      "metadata": {
        "id": "ta7mf_eCfto6"
      }
    },
    {
      "cell_type": "code",
      "source": [
        "!pip install faker_airtravel"
      ],
      "metadata": {
        "colab": {
          "base_uri": "https://localhost:8080/"
        },
        "id": "thbbGKoLfwHD",
        "outputId": "a102b848-ef29-4865-c6bf-ac18d480f302"
      },
      "execution_count": 30,
      "outputs": [
        {
          "output_type": "stream",
          "name": "stdout",
          "text": [
            "Looking in indexes: https://pypi.org/simple, https://us-python.pkg.dev/colab-wheels/public/simple/\n",
            "Collecting faker_airtravel\n",
            "  Downloading faker_airtravel-0.4-py2.py3-none-any.whl (18 kB)\n",
            "Installing collected packages: faker-airtravel\n",
            "Successfully installed faker-airtravel-0.4\n"
          ]
        }
      ]
    },
    {
      "cell_type": "code",
      "source": [
        "from faker_airtravel import AirTravelProvider"
      ],
      "metadata": {
        "id": "j3dfwutvf1s3"
      },
      "execution_count": 31,
      "outputs": []
    },
    {
      "cell_type": "code",
      "source": [
        "Faker.seed(0)\n",
        "faker = Faker()\n",
        "faker.add_provider(AirTravelProvider)"
      ],
      "metadata": {
        "id": "w8j9V-Lof87b"
      },
      "execution_count": 32,
      "outputs": []
    },
    {
      "cell_type": "code",
      "source": [
        "faker.airport_object()"
      ],
      "metadata": {
        "colab": {
          "base_uri": "https://localhost:8080/"
        },
        "id": "UdhhocFUf-30",
        "outputId": "d127dc8b-d443-445f-ef0e-d1d2b243a819"
      },
      "execution_count": 33,
      "outputs": [
        {
          "output_type": "execute_result",
          "data": {
            "text/plain": [
              "{'airport': 'Fort Lauderdale Hollywood International airport',\n",
              " 'iata': 'FLL',\n",
              " 'icao': 'KFLL',\n",
              " 'city': 'Dania Beach',\n",
              " 'state': 'Florida',\n",
              " 'country': 'United states'}"
            ]
          },
          "metadata": {},
          "execution_count": 33
        }
      ]
    },
    {
      "cell_type": "code",
      "source": [
        "faker.flight()"
      ],
      "metadata": {
        "colab": {
          "base_uri": "https://localhost:8080/"
        },
        "id": "9xcuca3lgC18",
        "outputId": "040c82b2-3aca-49e7-fe38-812a13174e43"
      },
      "execution_count": 34,
      "outputs": [
        {
          "output_type": "execute_result",
          "data": {
            "text/plain": [
              "{'airline': 'Qatar Airways',\n",
              " 'origin': {'airport': 'Pucallpa airport',\n",
              "  'iata': 'PCL',\n",
              "  'icao': 'SPCL',\n",
              "  'city': 'Callaria',\n",
              "  'state': 'Ucayali',\n",
              "  'country': 'Peru'},\n",
              " 'destination': {'airport': 'Tancredo Neves International airport',\n",
              "  'iata': 'CNF',\n",
              "  'icao': 'SBCF',\n",
              "  'city': 'Confins',\n",
              "  'state': 'Minas Gerais',\n",
              "  'country': 'Brazil'},\n",
              " 'stops': 2,\n",
              " 'price': 973}"
            ]
          },
          "metadata": {},
          "execution_count": 34
        }
      ]
    }
  ]
}