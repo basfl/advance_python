{
 "cells": [
  {
   "cell_type": "code",
   "execution_count": 3,
   "id": "ca1ec9bd",
   "metadata": {},
   "outputs": [
    {
     "data": {
      "text/plain": [
       "[1, 2, 3, 4, 5]"
      ]
     },
     "execution_count": 3,
     "metadata": {},
     "output_type": "execute_result"
    }
   ],
   "source": [
    "numbers = [1, 2, 3, 4, 5]\n",
    "numbers"
   ]
  },
  {
   "cell_type": "code",
   "execution_count": 5,
   "id": "b8f74f46",
   "metadata": {},
   "outputs": [
    {
     "data": {
      "text/plain": [
       "<list_iterator at 0x1de61cf97e0>"
      ]
     },
     "execution_count": 5,
     "metadata": {},
     "output_type": "execute_result"
    }
   ],
   "source": [
    "iterator=iter(numbers)\n",
    "iterator"
   ]
  },
  {
   "cell_type": "code",
   "execution_count": 6,
   "id": "c40dab33",
   "metadata": {},
   "outputs": [
    {
     "data": {
      "text/plain": [
       "1"
      ]
     },
     "execution_count": 6,
     "metadata": {},
     "output_type": "execute_result"
    }
   ],
   "source": [
    "next(iterator)"
   ]
  },
  {
   "cell_type": "code",
   "execution_count": 7,
   "id": "145e9b69",
   "metadata": {},
   "outputs": [
    {
     "data": {
      "text/plain": [
       "2"
      ]
     },
     "execution_count": 7,
     "metadata": {},
     "output_type": "execute_result"
    }
   ],
   "source": [
    "next(iterator)"
   ]
  },
  {
   "cell_type": "code",
   "execution_count": 8,
   "id": "d1f0e8f8",
   "metadata": {},
   "outputs": [],
   "source": [
    "import random\n",
    "\n",
    "def gen_randint():\n",
    "    return random.randint(0, 10)"
   ]
  },
  {
   "cell_type": "markdown",
   "id": "064b8350",
   "metadata": {},
   "source": [
    "Now we want to generate a sequence of these random integers, until we hit 5 for the first time.\n",
    "We could do it easily this way:\n"
   ]
  },
  {
   "cell_type": "code",
   "execution_count": 9,
   "id": "a0ff3bd3",
   "metadata": {},
   "outputs": [
    {
     "name": "stdout",
     "output_type": "stream",
     "text": [
      "6\n",
      "6\n",
      "0\n",
      "4\n",
      "8\n",
      "7\n",
      "6\n",
      "4\n",
      "7\n"
     ]
    }
   ],
   "source": [
    "random.seed(0) \n",
    "\n",
    "sentinel = 5\n",
    "while True:\n",
    "    result = gen_randint()\n",
    "    if result != sentinel:\n",
    "        print(result)\n",
    "    else:\n",
    "        break"
   ]
  },
  {
   "cell_type": "markdown",
   "id": "68af0af5",
   "metadata": {},
   "source": [
    "But we can leverage iter() to achieve the same thing in a much simpler way.\n",
    "First we create an iterator object (specifically a callable_iterator object):\n"
   ]
  },
  {
   "cell_type": "code",
   "execution_count": 10,
   "id": "a6298352",
   "metadata": {},
   "outputs": [
    {
     "name": "stdout",
     "output_type": "stream",
     "text": [
      "<class 'callable_iterator'>\n"
     ]
    }
   ],
   "source": [
    "iterator = iter(gen_randint, 5)\n",
    "print(type(iterator))\n",
    "\n"
   ]
  },
  {
   "cell_type": "code",
   "execution_count": 11,
   "id": "581be051",
   "metadata": {},
   "outputs": [
    {
     "name": "stdout",
     "output_type": "stream",
     "text": [
      "6\n",
      "6\n",
      "0\n",
      "4\n",
      "8\n",
      "7\n",
      "6\n",
      "4\n",
      "7\n"
     ]
    }
   ],
   "source": [
    "random.seed(0)\n",
    "\n",
    "for number in iter(gen_randint, 5):\n",
    "    print(number)"
   ]
  },
  {
   "cell_type": "markdown",
   "id": "fc202868",
   "metadata": {},
   "source": [
    "How about if the function we want to call needs arguments - we can use either a lambda function to get around this, or use a partial function.\n",
    "For example, suppose we have this function:\n"
   ]
  },
  {
   "cell_type": "code",
   "execution_count": 13,
   "id": "2e754e9d",
   "metadata": {},
   "outputs": [],
   "source": [
    "def gen_randint(min_, max_):\n",
    "    return random.randint(min_, max_)\n",
    "\n"
   ]
  },
  {
   "cell_type": "markdown",
   "id": "401f6650",
   "metadata": {},
   "source": [
    "We want to use this function as the callable in iter() with the values 0 and 10.\n",
    "We can use a lambda to create a new function that is callable, and returns the value of calling gen_randint with the specific min_ and max_ values:\n"
   ]
  },
  {
   "cell_type": "code",
   "execution_count": 15,
   "id": "f995fb9e",
   "metadata": {},
   "outputs": [
    {
     "name": "stdout",
     "output_type": "stream",
     "text": [
      "6\n",
      "6\n",
      "0\n",
      "4\n"
     ]
    }
   ],
   "source": [
    "gen_lambda = lambda: gen_randint(0, 10)\n",
    "\n",
    "random.seed(0)\n",
    "\n",
    "for _ in range(4):\n",
    "    print(gen_lambda())\n"
   ]
  },
  {
   "cell_type": "markdown",
   "id": "2f20fdc5",
   "metadata": {},
   "source": [
    "Another way to do this, is to use partial, located in the functools module:"
   ]
  },
  {
   "cell_type": "code",
   "execution_count": 16,
   "id": "13eddeae",
   "metadata": {},
   "outputs": [
    {
     "name": "stdout",
     "output_type": "stream",
     "text": [
      "6\n",
      "6\n",
      "0\n",
      "4\n"
     ]
    }
   ],
   "source": [
    "from functools import partial\n",
    "gen_partial = partial(gen_randint, 0, 10)\n",
    "\n",
    "random.seed(0)\n",
    "\n",
    "for _ in range(4):\n",
    "    print(gen_partial())"
   ]
  },
  {
   "cell_type": "markdown",
   "id": "88b336ce",
   "metadata": {},
   "source": [
    "now we can use either of these approaches to create our callable iterator using iter():"
   ]
  },
  {
   "cell_type": "code",
   "execution_count": 17,
   "id": "a3594077",
   "metadata": {},
   "outputs": [
    {
     "name": "stdout",
     "output_type": "stream",
     "text": [
      "6\n",
      "6\n",
      "0\n",
      "4\n",
      "8\n",
      "7\n",
      "6\n",
      "4\n",
      "7\n"
     ]
    }
   ],
   "source": [
    "random.seed(0)\n",
    "\n",
    "for number in iter(lambda: gen_randint(0, 10), 5):\n",
    "    print(number)"
   ]
  },
  {
   "cell_type": "code",
   "execution_count": 19,
   "id": "f3c444cc",
   "metadata": {},
   "outputs": [
    {
     "name": "stdout",
     "output_type": "stream",
     "text": [
      "6\n",
      "6\n",
      "0\n",
      "4\n",
      "8\n",
      "7\n",
      "6\n",
      "4\n",
      "7\n"
     ]
    }
   ],
   "source": [
    "random.seed(0)\n",
    "for number in iter(partial(gen_randint, 0, 10), 5):\n",
    "    print(number)\n",
    "\n"
   ]
  },
  {
   "cell_type": "markdown",
   "id": "d5f325d1",
   "metadata": {},
   "source": [
    "Example:We're not going to get into sockets here, so instead let's just see how we would read a text file in chunks, just to see how this works - but the same pattern applies to any problem where you are essentially running a loop, calling the same function each time, until the function returns a specific value - the sentinel value."
   ]
  },
  {
   "cell_type": "code",
   "execution_count": 20,
   "id": "252271ac",
   "metadata": {},
   "outputs": [],
   "source": [
    "with open(\"test.txt\", \"w\") as f:\n",
    "    for _ in range(10):\n",
    "        f.write(f\"0123456789\")"
   ]
  },
  {
   "cell_type": "code",
   "execution_count": 21,
   "id": "95188af1",
   "metadata": {},
   "outputs": [
    {
     "name": "stdout",
     "output_type": "stream",
     "text": [
      "0123456789012345678901234567890123456789012345678901234567890123456789012345678901234567890123456789\n"
     ]
    }
   ],
   "source": [
    "with open(\"test.txt\") as f:\n",
    "    for line in f.readlines():\n",
    "        print(line)"
   ]
  },
  {
   "cell_type": "markdown",
   "id": "efa1ed35",
   "metadata": {},
   "source": [
    "But what if we wanted to read the file in chunks of 12 characters at a time?"
   ]
  },
  {
   "cell_type": "markdown",
   "id": "db60c49d",
   "metadata": {},
   "source": [
    "traditional way "
   ]
  },
  {
   "cell_type": "code",
   "execution_count": 22,
   "id": "83dc20a4",
   "metadata": {},
   "outputs": [
    {
     "name": "stdout",
     "output_type": "stream",
     "text": [
      "012345678901\n",
      "234567890123\n",
      "456789012345\n",
      "678901234567\n",
      "890123456789\n",
      "012345678901\n",
      "234567890123\n",
      "456789012345\n",
      "6789\n"
     ]
    }
   ],
   "source": [
    "with open(\"test.txt\") as f:\n",
    "    while True:\n",
    "        chunk = f.read(12)\n",
    "        if chunk == \"\":\n",
    "            break\n",
    "        print(chunk)"
   ]
  },
  {
   "cell_type": "markdown",
   "id": "5a869e96",
   "metadata": {},
   "source": [
    "using iter "
   ]
  },
  {
   "cell_type": "code",
   "execution_count": 23,
   "id": "7b2b1c0d",
   "metadata": {},
   "outputs": [
    {
     "name": "stdout",
     "output_type": "stream",
     "text": [
      "012345678901\n",
      "234567890123\n",
      "456789012345\n",
      "678901234567\n",
      "890123456789\n",
      "012345678901\n",
      "234567890123\n",
      "456789012345\n",
      "6789\n"
     ]
    }
   ],
   "source": [
    "with open(\"test.txt\") as f:\n",
    "    for chunk in iter(lambda: f.read(12), \"\"):\n",
    "        print(chunk.strip())\n",
    "\n"
   ]
  }
 ],
 "metadata": {
  "kernelspec": {
   "display_name": "Python 3 (ipykernel)",
   "language": "python",
   "name": "python3"
  },
  "language_info": {
   "codemirror_mode": {
    "name": "ipython",
    "version": 3
   },
   "file_extension": ".py",
   "mimetype": "text/x-python",
   "name": "python",
   "nbconvert_exporter": "python",
   "pygments_lexer": "ipython3",
   "version": "3.10.5"
  }
 },
 "nbformat": 4,
 "nbformat_minor": 5
}
