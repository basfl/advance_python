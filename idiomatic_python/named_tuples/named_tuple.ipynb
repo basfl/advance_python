{
 "cells": [
  {
   "cell_type": "markdown",
   "id": "7fc8fe72",
   "metadata": {},
   "source": [
    "To use named tuples, we first have to define the structure of the tuple:"
   ]
  },
  {
   "cell_type": "code",
   "execution_count": 1,
   "id": "e87fd577",
   "metadata": {},
   "outputs": [],
   "source": [
    "from collections import namedtuple\n",
    "\n",
    "Coordinates = namedtuple(\"Coordinates\", \"latitude, longitude\")\n",
    "london = Coordinates(51.51, -0.12)\n",
    "paris = Coordinates(latitude=48.86, longitude=2.35)\n"
   ]
  },
  {
   "cell_type": "code",
   "execution_count": 2,
   "id": "258e8b79",
   "metadata": {},
   "outputs": [
    {
     "data": {
      "text/plain": [
       "(48.86, -0.12)"
      ]
     },
     "execution_count": 2,
     "metadata": {},
     "output_type": "execute_result"
    }
   ],
   "source": [
    "paris[0], london[1]"
   ]
  },
  {
   "cell_type": "code",
   "execution_count": 3,
   "id": "b0adc36e",
   "metadata": {},
   "outputs": [
    {
     "data": {
      "text/plain": [
       "True"
      ]
     },
     "execution_count": 3,
     "metadata": {},
     "output_type": "execute_result"
    }
   ],
   "source": [
    "isinstance(paris, tuple)\n"
   ]
  },
  {
   "cell_type": "markdown",
   "id": "0290a4f4",
   "metadata": {},
   "source": [
    "They also allow accessing the structure based on the names we specified:"
   ]
  },
  {
   "cell_type": "code",
   "execution_count": 4,
   "id": "1099206a",
   "metadata": {},
   "outputs": [
    {
     "data": {
      "text/plain": [
       "(48.86, -0.12)"
      ]
     },
     "execution_count": 4,
     "metadata": {},
     "output_type": "execute_result"
    }
   ],
   "source": [
    "paris.latitude, london.longitude"
   ]
  },
  {
   "cell_type": "markdown",
   "id": "a6d2c2ed",
   "metadata": {},
   "source": [
    "Plain function example"
   ]
  },
  {
   "cell_type": "code",
   "execution_count": 5,
   "id": "444d35c5",
   "metadata": {},
   "outputs": [],
   "source": [
    "def min_max(lst: list[int]) -> tuple:\n",
    "    min_ = min(lst)\n",
    "    max_ = max(lst)\n",
    "    return min_, max_"
   ]
  },
  {
   "cell_type": "code",
   "execution_count": 6,
   "id": "139bf8cf",
   "metadata": {},
   "outputs": [
    {
     "name": "stdout",
     "output_type": "stream",
     "text": [
      "(-5, 20)\n"
     ]
    }
   ],
   "source": [
    "l = [1, 3, 2, 0, 20, -5]\n",
    "results = min_max(l)\n",
    "print(results)"
   ]
  },
  {
   "cell_type": "code",
   "execution_count": null,
   "id": "a6996b7d",
   "metadata": {},
   "outputs": [],
   "source": [
    "Named Tuple Function Example"
   ]
  },
  {
   "cell_type": "code",
   "execution_count": 7,
   "id": "9944f1f7",
   "metadata": {},
   "outputs": [],
   "source": [
    "MinMax = namedtuple(\"MinMax\", \"min, max\")\n",
    "def min_max(lst: list[int]) -> MinMax:\n",
    "    min_ = min(lst)\n",
    "    max_ = max(lst)\n",
    "    return MinMax(min=min_, max=max_)\n",
    "\n"
   ]
  },
  {
   "cell_type": "code",
   "execution_count": 8,
   "id": "4adae303",
   "metadata": {},
   "outputs": [
    {
     "name": "stdout",
     "output_type": "stream",
     "text": [
      "min=-5, max=20\n"
     ]
    }
   ],
   "source": [
    "minmax = min_max(l)\n",
    "print(f\"min={minmax.min}, max={minmax.max}\")"
   ]
  }
 ],
 "metadata": {
  "kernelspec": {
   "display_name": "Python 3 (ipykernel)",
   "language": "python",
   "name": "python3"
  },
  "language_info": {
   "codemirror_mode": {
    "name": "ipython",
    "version": 3
   },
   "file_extension": ".py",
   "mimetype": "text/x-python",
   "name": "python",
   "nbconvert_exporter": "python",
   "pygments_lexer": "ipython3",
   "version": "3.10.5"
  }
 },
 "nbformat": 4,
 "nbformat_minor": 5
}
