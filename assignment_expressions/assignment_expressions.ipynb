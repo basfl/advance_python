{
  "nbformat": 4,
  "nbformat_minor": 0,
  "metadata": {
    "colab": {
      "provenance": []
    },
    "kernelspec": {
      "name": "python3",
      "display_name": "Python 3"
    },
    "language_info": {
      "name": "python"
    }
  },
  "cells": [
    {
      "cell_type": "markdown",
      "source": [
        "### python assignment expressions"
      ],
      "metadata": {
        "id": "HiCsILDKHytr"
      }
    },
    {
      "cell_type": "code",
      "source": [
        "a=(debug:=2*3)%5\n",
        "print(a)\n",
        "print(debug)"
      ],
      "metadata": {
        "colab": {
          "base_uri": "https://localhost:8080/"
        },
        "id": "MgfruEniH5vg",
        "outputId": "a82bf744-f25e-4190-a4e0-0afb576c7ab0"
      },
      "execution_count": 7,
      "outputs": [
        {
          "output_type": "stream",
          "name": "stdout",
          "text": [
            "1\n",
            "6\n"
          ]
        }
      ]
    },
    {
      "cell_type": "markdown",
      "source": [
        "\n",
        "\n",
        "Consider this example, where we have a list of strings, and we want to transform that list into a list of strings that contain all the unique characters of each string but only for cases where the number of unique characters is greater than 1.\n"
      ],
      "metadata": {
        "id": "cZFySz0KJ0m0"
      }
    },
    {
      "cell_type": "code",
      "source": [
        "l = [\"a\", \"aa\", \"aaa\", \"ab\", \"aab\", \"aabb\"]\n",
        "result = [set(el) for el in l if len(set(el)) > 1]\n",
        "result"
      ],
      "metadata": {
        "colab": {
          "base_uri": "https://localhost:8080/"
        },
        "id": "t_db7eeTJ17B",
        "outputId": "e0d08657-f71a-4ad1-a539-f2891b68c1ab"
      },
      "execution_count": 8,
      "outputs": [
        {
          "output_type": "execute_result",
          "data": {
            "text/plain": [
              "[{'a', 'b'}, {'a', 'b'}, {'a', 'b'}]"
            ]
          },
          "metadata": {},
          "execution_count": 8
        }
      ]
    },
    {
      "cell_type": "markdown",
      "source": [
        "\n",
        "\n",
        "We had to calculate set(el) twice - once in the if clause, and once in the value we want for each resulting element.\n",
        "\n",
        "Instead, we could use the walrus operator this way:\n"
      ],
      "metadata": {
        "id": "YIs-JdQ9K9fv"
      }
    },
    {
      "cell_type": "code",
      "source": [
        "result = [chars for el in l if len(chars := set(el)) > 1]\n",
        "result"
      ],
      "metadata": {
        "colab": {
          "base_uri": "https://localhost:8080/"
        },
        "id": "LpOHo2nxLBpe",
        "outputId": "a447f701-5eb1-4eeb-d196-442b1f7806ed"
      },
      "execution_count": 9,
      "outputs": [
        {
          "output_type": "execute_result",
          "data": {
            "text/plain": [
              "[{'a', 'b'}, {'a', 'b'}, {'a', 'b'}]"
            ]
          },
          "metadata": {},
          "execution_count": 9
        }
      ]
    },
    {
      "cell_type": "code",
      "source": [
        "import time\n",
        "\n",
        "def transform(x):\n",
        "    time.sleep(0.2)\n",
        "    sign = 1 if x % 2 == 0 else -1\n",
        "    return sign *  x ** 2"
      ],
      "metadata": {
        "id": "Xs97C0MoLGZo"
      },
      "execution_count": 10,
      "outputs": []
    },
    {
      "cell_type": "code",
      "source": [
        "\n",
        "l = [1, 2, 3, 4, 5, 6, 7, 8, 10]\n"
      ],
      "metadata": {
        "id": "s2_PZFrWLPq0"
      },
      "execution_count": 11,
      "outputs": []
    },
    {
      "cell_type": "code",
      "source": [
        "start = time.perf_counter()\n",
        "result = [transform(x) for x in l if transform(x) > 0]\n",
        "end = time.perf_counter()\n",
        "print(result)\n",
        "print(f\"elapsed: {end - start:.1f} seconds\")\n"
      ],
      "metadata": {
        "colab": {
          "base_uri": "https://localhost:8080/"
        },
        "id": "PXb5FRipLS4B",
        "outputId": "05ff5986-88dc-4fd0-ca03-5d73521649f2"
      },
      "execution_count": 12,
      "outputs": [
        {
          "output_type": "stream",
          "name": "stdout",
          "text": [
            "[4, 16, 36, 64, 100]\n",
            "elapsed: 2.8 seconds\n"
          ]
        }
      ]
    },
    {
      "cell_type": "code",
      "source": [
        "start = time.perf_counter()\n",
        "result = [val for x in l if (val := transform(x)) > 0]\n",
        "end = time.perf_counter()\n",
        "print(result)\n",
        "print(f\"elapsed: {end - start:.1f} seconds\")"
      ],
      "metadata": {
        "colab": {
          "base_uri": "https://localhost:8080/"
        },
        "id": "r-yUpPngMORb",
        "outputId": "0e2277f3-2f23-48cd-d8e6-bfdd04ffaf55"
      },
      "execution_count": 13,
      "outputs": [
        {
          "output_type": "stream",
          "name": "stdout",
          "text": [
            "[4, 16, 36, 64, 100]\n",
            "elapsed: 1.8 seconds\n"
          ]
        }
      ]
    },
    {
      "cell_type": "code",
      "source": [
        "l = [\n",
        "    (start := 10),\n",
        "    (intermediate := start + 10),\n",
        "    start + intermediate\n",
        "]\n",
        "l"
      ],
      "metadata": {
        "colab": {
          "base_uri": "https://localhost:8080/"
        },
        "id": "TMnLtPF9My6l",
        "outputId": "f65e0ae3-6879-4ece-c26b-f755efe429f9"
      },
      "execution_count": 14,
      "outputs": [
        {
          "output_type": "execute_result",
          "data": {
            "text/plain": [
              "[10, 20, 30]"
            ]
          },
          "metadata": {},
          "execution_count": 14
        }
      ]
    },
    {
      "cell_type": "code",
      "source": [
        "d = {\n",
        "    \"start\": (start := 10),\n",
        "    \"intermediate\": (intermediate := start + 10),\n",
        "    \"last\": start + intermediate\n",
        "}\n",
        "d\n"
      ],
      "metadata": {
        "colab": {
          "base_uri": "https://localhost:8080/"
        },
        "id": "pIG6ZCd1M1ZM",
        "outputId": "645cce6e-1bdc-43ca-f865-2efeea3ee67f"
      },
      "execution_count": 15,
      "outputs": [
        {
          "output_type": "execute_result",
          "data": {
            "text/plain": [
              "{'start': 10, 'intermediate': 20, 'last': 30}"
            ]
          },
          "metadata": {},
          "execution_count": 15
        }
      ]
    },
    {
      "cell_type": "markdown",
      "source": [
        "suppose we have a deck of cards, and we want to randomly select hands of 5 cards from the deck, but only retain the hands that have at least one card in each suit, and for each hand we want to also calculate the frequency of cards in each suit."
      ],
      "metadata": {
        "id": "wg--R5A0NiXZ"
      }
    },
    {
      "cell_type": "code",
      "source": [
        "suits = list(\"SHDC\")  # spades, hearts, diamonds, clubs\n",
        "faces = list(\"23456789\") + [\"10\"] + list(\"JQKA\")\n",
        "\n",
        "deck = [(f, s) for s in suits for f in faces]\n",
        "\n",
        "deck"
      ],
      "metadata": {
        "colab": {
          "base_uri": "https://localhost:8080/"
        },
        "id": "2lU3hTrFNjNV",
        "outputId": "5442d4aa-1635-4959-be55-ca7e8115f72f"
      },
      "execution_count": 16,
      "outputs": [
        {
          "output_type": "execute_result",
          "data": {
            "text/plain": [
              "[('2', 'S'),\n",
              " ('3', 'S'),\n",
              " ('4', 'S'),\n",
              " ('5', 'S'),\n",
              " ('6', 'S'),\n",
              " ('7', 'S'),\n",
              " ('8', 'S'),\n",
              " ('9', 'S'),\n",
              " ('10', 'S'),\n",
              " ('J', 'S'),\n",
              " ('Q', 'S'),\n",
              " ('K', 'S'),\n",
              " ('A', 'S'),\n",
              " ('2', 'H'),\n",
              " ('3', 'H'),\n",
              " ('4', 'H'),\n",
              " ('5', 'H'),\n",
              " ('6', 'H'),\n",
              " ('7', 'H'),\n",
              " ('8', 'H'),\n",
              " ('9', 'H'),\n",
              " ('10', 'H'),\n",
              " ('J', 'H'),\n",
              " ('Q', 'H'),\n",
              " ('K', 'H'),\n",
              " ('A', 'H'),\n",
              " ('2', 'D'),\n",
              " ('3', 'D'),\n",
              " ('4', 'D'),\n",
              " ('5', 'D'),\n",
              " ('6', 'D'),\n",
              " ('7', 'D'),\n",
              " ('8', 'D'),\n",
              " ('9', 'D'),\n",
              " ('10', 'D'),\n",
              " ('J', 'D'),\n",
              " ('Q', 'D'),\n",
              " ('K', 'D'),\n",
              " ('A', 'D'),\n",
              " ('2', 'C'),\n",
              " ('3', 'C'),\n",
              " ('4', 'C'),\n",
              " ('5', 'C'),\n",
              " ('6', 'C'),\n",
              " ('7', 'C'),\n",
              " ('8', 'C'),\n",
              " ('9', 'C'),\n",
              " ('10', 'C'),\n",
              " ('J', 'C'),\n",
              " ('Q', 'C'),\n",
              " ('K', 'C'),\n",
              " ('A', 'C')]"
            ]
          },
          "metadata": {},
          "execution_count": 16
        }
      ]
    },
    {
      "cell_type": "code",
      "source": [
        "import random\n",
        "\n",
        "random.seed(0)  # setting seed for repeatability\n",
        "\n",
        "hand = random.choices(deck, k=5)\n",
        "hand"
      ],
      "metadata": {
        "colab": {
          "base_uri": "https://localhost:8080/"
        },
        "id": "ohmUwjxZNoow",
        "outputId": "6c683ebf-b321-4557-9303-afe26d5539f8"
      },
      "execution_count": 17,
      "outputs": [
        {
          "output_type": "execute_result",
          "data": {
            "text/plain": [
              "[('6', 'C'), ('2', 'C'), ('10', 'H'), ('2', 'H'), ('2', 'D')]"
            ]
          },
          "metadata": {},
          "execution_count": 17
        }
      ]
    }
  ]
}