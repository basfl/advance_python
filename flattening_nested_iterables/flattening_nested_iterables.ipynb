{
 "cells": [
  {
   "cell_type": "code",
   "execution_count": 1,
   "id": "9cf0e73e",
   "metadata": {},
   "outputs": [],
   "source": [
    "from collections.abc import Iterable"
   ]
  },
  {
   "cell_type": "code",
   "execution_count": 6,
   "id": "24984b85",
   "metadata": {},
   "outputs": [],
   "source": [
    "def flatten_std(iterable):\n",
    "    result = []\n",
    "    for element in iterable:\n",
    "        if isinstance(element, Iterable) and not isinstance(element, (str, bytes)):\n",
    "            result.extend(flatten_std(element))\n",
    "        else:\n",
    "            result.append(element)\n",
    "    return result"
   ]
  },
  {
   "cell_type": "code",
   "execution_count": 7,
   "id": "47017415",
   "metadata": {},
   "outputs": [
    {
     "data": {
      "text/plain": [
       "[1, 2, 3, 4, 5, 6, 7, 8, 9, 10]"
      ]
     },
     "execution_count": 7,
     "metadata": {},
     "output_type": "execute_result"
    }
   ],
   "source": [
    "l = [1, 2, [3, 4, [5, 6, 7, [8, 9, 10]]]]\n",
    "flatten_std(l)"
   ]
  },
  {
   "cell_type": "code",
   "execution_count": 9,
   "id": "9556f5a9",
   "metadata": {},
   "outputs": [
    {
     "data": {
      "text/plain": [
       "[\"I'm\", 'a', 'lumberjack', 'and', \"I'm\", 'OK']"
      ]
     },
     "execution_count": 9,
     "metadata": {},
     "output_type": "execute_result"
    }
   ],
   "source": [
    "l = [\"I'm\", \"a\", [\"lumberjack\", \"and\", [\"I'm\", \"OK\"]]]\n",
    "flatten_std(l)"
   ]
  },
  {
   "cell_type": "code",
   "execution_count": 14,
   "id": "28a3a730",
   "metadata": {},
   "outputs": [],
   "source": [
    "def flatten(iterable):\n",
    "    for element in iterable:\n",
    "        if isinstance(element, Iterable) and not isinstance(element, (str, bytes)):\n",
    "            #for e in flatten(element):\n",
    "            #    yield e\n",
    "            yield from flatten(element)\n",
    "        else:\n",
    "            yield element"
   ]
  },
  {
   "cell_type": "code",
   "execution_count": 16,
   "id": "25ac414b",
   "metadata": {},
   "outputs": [
    {
     "data": {
      "text/plain": [
       "[1, 2, 3, 4, 5, 6, 7, 8, 9, 10]"
      ]
     },
     "execution_count": 16,
     "metadata": {},
     "output_type": "execute_result"
    }
   ],
   "source": [
    "l = [1, 2, [3, 4, [5, 6, 7, [8, 9, 10]]]]\n",
    "list(flatten(l))"
   ]
  },
  {
   "cell_type": "code",
   "execution_count": 17,
   "id": "738efab3",
   "metadata": {},
   "outputs": [
    {
     "data": {
      "text/plain": [
       "[\"I'm\", 'a', 'lumberjack', 'and', \"I'm\", 'OK']"
      ]
     },
     "execution_count": 17,
     "metadata": {},
     "output_type": "execute_result"
    }
   ],
   "source": [
    "l = [\"I'm\", \"a\", [\"lumberjack\", \"and\", [\"I'm\", \"OK\"]]]\n",
    "list(flatten(l))"
   ]
  }
 ],
 "metadata": {
  "kernelspec": {
   "display_name": "Python 3 (ipykernel)",
   "language": "python",
   "name": "python3"
  },
  "language_info": {
   "codemirror_mode": {
    "name": "ipython",
    "version": 3
   },
   "file_extension": ".py",
   "mimetype": "text/x-python",
   "name": "python",
   "nbconvert_exporter": "python",
   "pygments_lexer": "ipython3",
   "version": "3.10.5"
  }
 },
 "nbformat": 4,
 "nbformat_minor": 5
}
