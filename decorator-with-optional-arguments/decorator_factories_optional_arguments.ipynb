{
 "cells": [
  {
   "cell_type": "code",
   "execution_count": 2,
   "id": "8d91cb34",
   "metadata": {},
   "outputs": [],
   "source": [
    "from functools import lru_cache\n",
    "\n",
    "@lru_cache\n",
    "def my_func(a):\n",
    "    pass\n",
    "\n",
    "@lru_cache(maxsize=5)\n",
    "def my_other_func(a):\n",
    "    pass"
   ]
  },
  {
   "cell_type": "markdown",
   "id": "7f312a55",
   "metadata": {},
   "source": [
    "simple decorator"
   ]
  },
  {
   "cell_type": "code",
   "execution_count": 4,
   "id": "ae7b73b0",
   "metadata": {},
   "outputs": [],
   "source": [
    "from time import perf_counter\n",
    "def timer(fn):\n",
    "    def inner(*args,**kwargs):\n",
    "        start = perf_counter()\n",
    "        result = fn(*args, **kwargs)\n",
    "        end = perf_counter()\n",
    "        print(f\"{fn.__name__}: {end-start:0.5f} seconds\")\n",
    "        return result\n",
    "    return inner"
   ]
  },
  {
   "cell_type": "markdown",
   "id": "b1e67675",
   "metadata": {},
   "source": [
    "Calling decorator"
   ]
  },
  {
   "cell_type": "code",
   "execution_count": 5,
   "id": "b42fe7ed",
   "metadata": {},
   "outputs": [],
   "source": [
    "from random import random\n",
    "from time import sleep\n",
    "\n",
    "@timer\n",
    "def my_func(a, *, b):\n",
    "    sleep(random())\n",
    "    return a * b"
   ]
  },
  {
   "cell_type": "code",
   "execution_count": 6,
   "id": "4222311c",
   "metadata": {},
   "outputs": [
    {
     "name": "stdout",
     "output_type": "stream",
     "text": [
      "my_func: 0.64758 seconds\n"
     ]
    },
    {
     "data": {
      "text/plain": [
       "'********************'"
      ]
     },
     "execution_count": 6,
     "metadata": {},
     "output_type": "execute_result"
    }
   ],
   "source": [
    "my_func(\"*\", b=20)\n",
    "\n"
   ]
  },
  {
   "cell_type": "markdown",
   "id": "ba9b4b0c",
   "metadata": {},
   "source": [
    "Using @wraps to retain original function metadata"
   ]
  },
  {
   "cell_type": "code",
   "execution_count": 9,
   "id": "c6eaf063",
   "metadata": {},
   "outputs": [],
   "source": [
    "from functools import wraps\n",
    "def timer(fn):\n",
    "    @wraps(fn)\n",
    "    def inner(*args, **kwargs):\n",
    "        start = perf_counter()\n",
    "        result = fn(*args, **kwargs)\n",
    "        end = perf_counter()\n",
    "        print(f\"{fn.__name__}: {end-start:0.5f} seconds\")\n",
    "        return result\n",
    "    return inner"
   ]
  },
  {
   "cell_type": "code",
   "execution_count": 10,
   "id": "97b8317a",
   "metadata": {},
   "outputs": [],
   "source": [
    "@timer\n",
    "def my_func(a, *, b):\n",
    "    \"\"\"A docstring annotation\"\"\"\n",
    "    sleep(random())\n",
    "    return a * b"
   ]
  },
  {
   "cell_type": "code",
   "execution_count": 11,
   "id": "56c99f43",
   "metadata": {},
   "outputs": [
    {
     "data": {
      "text/plain": [
       "'my_func'"
      ]
     },
     "execution_count": 11,
     "metadata": {},
     "output_type": "execute_result"
    }
   ],
   "source": [
    "my_func.__name__"
   ]
  },
  {
   "cell_type": "code",
   "execution_count": 12,
   "id": "57c2c883",
   "metadata": {},
   "outputs": [
    {
     "data": {
      "text/plain": [
       "'A docstring annotation'"
      ]
     },
     "execution_count": 12,
     "metadata": {},
     "output_type": "execute_result"
    }
   ],
   "source": [
    "my_func.__doc__"
   ]
  },
  {
   "cell_type": "markdown",
   "id": "38186077",
   "metadata": {},
   "source": [
    "Decorator Arguments"
   ]
  },
  {
   "cell_type": "code",
   "execution_count": 13,
   "id": "8399dc08",
   "metadata": {},
   "outputs": [],
   "source": [
    "def timer(category = \"null\"):\n",
    "    def decorator(fn):\n",
    "        @wraps(fn)\n",
    "        def inner(*args, **kwargs):\n",
    "            start = perf_counter()\n",
    "            result = fn(*args, **kwargs)\n",
    "            end = perf_counter()\n",
    "            print(f\"{category}: {fn.__name__}: {end-start:0.5f} seconds\")\n",
    "            return result\n",
    "        return inner\n",
    "    return decorator      "
   ]
  },
  {
   "cell_type": "code",
   "execution_count": 14,
   "id": "73aabedd",
   "metadata": {},
   "outputs": [],
   "source": [
    "@timer(\"section 1\")\n",
    "def my_func(a, *, b):\n",
    "    sleep(random())\n",
    "    return a * b\n"
   ]
  },
  {
   "cell_type": "code",
   "execution_count": 15,
   "id": "404d01f1",
   "metadata": {},
   "outputs": [
    {
     "name": "stdout",
     "output_type": "stream",
     "text": [
      "section 1: my_func: 0.52979 seconds\n"
     ]
    },
    {
     "data": {
      "text/plain": [
       "50"
      ]
     },
     "execution_count": 15,
     "metadata": {},
     "output_type": "execute_result"
    }
   ],
   "source": [
    "my_func(5, b=10)\n"
   ]
  },
  {
   "cell_type": "code",
   "execution_count": 16,
   "id": "878a845e",
   "metadata": {},
   "outputs": [],
   "source": [
    "@timer()\n",
    "def my_func(a, *, b):\n",
    "    sleep(random())\n",
    "    return a * b"
   ]
  },
  {
   "cell_type": "code",
   "execution_count": 17,
   "id": "c0fab4bf",
   "metadata": {},
   "outputs": [
    {
     "name": "stdout",
     "output_type": "stream",
     "text": [
      "null: my_func: 0.06667 seconds\n"
     ]
    },
    {
     "data": {
      "text/plain": [
       "'*****'"
      ]
     },
     "execution_count": 17,
     "metadata": {},
     "output_type": "execute_result"
    }
   ],
   "source": [
    "my_func('*', b=5)\n"
   ]
  },
  {
   "cell_type": "markdown",
   "id": "1387b962",
   "metadata": {},
   "source": [
    "Optimize decorator to use without Parentheses"
   ]
  },
  {
   "cell_type": "code",
   "execution_count": 18,
   "id": "595873df",
   "metadata": {},
   "outputs": [],
   "source": [
    "def timer(func_or_category=None):\n",
    "    def decorator(fn):\n",
    "        @wraps(fn)\n",
    "        def inner(*args, **kwargs):\n",
    "            start = perf_counter()\n",
    "            result = fn(*args, **kwargs)\n",
    "            end = perf_counter()\n",
    "            print(f\"{category}: {fn.__name__}: {end-start:0.5f} seconds\")\n",
    "            return result\n",
    "        return inner\n",
    "        \n",
    "    if callable(func_or_category):\n",
    "        # a callable was passed in (1st variant)\n",
    "        func = func_or_category\n",
    "        category = \"null\"  # this will be bound to the decorator closure\n",
    "        return decorator(func)\n",
    "    elif isinstance(func_or_category, str) or func_or_category is None:\n",
    "        # a string (or None) was passed (2nd variant)\n",
    "        category = func_or_category  or \"null\"  # this will be bound to the decorator closure\n",
    "        return decorator\n",
    "    else:\n",
    "        raise ValueError(\"Expected argument to be a string, a callable, or None.\")"
   ]
  },
  {
   "cell_type": "code",
   "execution_count": 21,
   "id": "ffe0ea45",
   "metadata": {},
   "outputs": [
    {
     "name": "stdout",
     "output_type": "stream",
     "text": [
      "section 1: my_func: 0.00000 seconds\n"
     ]
    },
    {
     "data": {
      "text/plain": [
       "6"
      ]
     },
     "execution_count": 21,
     "metadata": {},
     "output_type": "execute_result"
    }
   ],
   "source": [
    "@timer(\"section 1\")\n",
    "def my_func(a, b):\n",
    "    return a * b\n",
    "\n",
    "\n",
    "my_func(2, 3)\n"
   ]
  },
  {
   "cell_type": "code",
   "execution_count": 22,
   "id": "48f6b37f",
   "metadata": {},
   "outputs": [
    {
     "name": "stdout",
     "output_type": "stream",
     "text": [
      "null: my_func: 0.00000 seconds\n"
     ]
    },
    {
     "data": {
      "text/plain": [
       "6"
      ]
     },
     "execution_count": 22,
     "metadata": {},
     "output_type": "execute_result"
    }
   ],
   "source": [
    "@timer\n",
    "def my_func(a, b):\n",
    "    return a * b\n",
    "\n",
    "\n",
    "my_func(2, 3)\n"
   ]
  }
 ],
 "metadata": {
  "kernelspec": {
   "display_name": "Python 3 (ipykernel)",
   "language": "python",
   "name": "python3"
  },
  "language_info": {
   "codemirror_mode": {
    "name": "ipython",
    "version": 3
   },
   "file_extension": ".py",
   "mimetype": "text/x-python",
   "name": "python",
   "nbconvert_exporter": "python",
   "pygments_lexer": "ipython3",
   "version": "3.10.5"
  }
 },
 "nbformat": 4,
 "nbformat_minor": 5
}
