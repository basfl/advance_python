{
 "cells": [
  {
   "cell_type": "code",
   "execution_count": 4,
   "id": "b7987f8b-6b8f-4491-98c8-d1c9fcd37d82",
   "metadata": {},
   "outputs": [],
   "source": [
    "# Generator"
   ]
  },
  {
   "cell_type": "code",
   "execution_count": 5,
   "id": "c0754ccb-9d0d-4e96-9e23-581946808523",
   "metadata": {},
   "outputs": [],
   "source": [
    "from math import sqrt, cbrt\n",
    "# cbrt is only available in Python 3.11 and higher\n",
    "# used Walrus Operator :=\n",
    "lst = [\n",
    "    (i, int(sq), int(cb))\n",
    "    for i in range(2, 100)\n",
    "    if (sq := sqrt(i)) == int(sq) and (cb := cbrt(i)) == int(cb)\n",
    "]\n"
   ]
  },
  {
   "cell_type": "code",
   "execution_count": 7,
   "id": "c36d4259-eedc-4605-874f-ae892ba2ea17",
   "metadata": {},
   "outputs": [
    {
     "data": {
      "text/plain": [
       "[(64, 8, 4)]"
      ]
     },
     "execution_count": 7,
     "metadata": {},
     "output_type": "execute_result"
    }
   ],
   "source": [
    "lst"
   ]
  },
  {
   "cell_type": "code",
   "execution_count": 8,
   "id": "50815582-6505-426b-bb7f-c71348c5c42f",
   "metadata": {},
   "outputs": [],
   "source": [
    "#Now, I want the first 5 numbers, but I have no idea what range I should use, so I'm going to try some large number:"
   ]
  },
  {
   "cell_type": "code",
   "execution_count": 9,
   "id": "e9cc18ea-e0ae-4761-81e7-c40ff5689c18",
   "metadata": {},
   "outputs": [
    {
     "data": {
      "text/plain": [
       "[(64, 8, 4),\n",
       " (729, 27, 9),\n",
       " (4096, 64, 16),\n",
       " (15625, 125, 25),\n",
       " (46656, 216, 36),\n",
       " (117649, 343, 49),\n",
       " (262144, 512, 64),\n",
       " (531441, 729, 81),\n",
       " (1000000, 1000, 100),\n",
       " (1771561, 1331, 121),\n",
       " (2985984, 1728, 144),\n",
       " (4826809, 2197, 169)]"
      ]
     },
     "execution_count": 9,
     "metadata": {},
     "output_type": "execute_result"
    }
   ],
   "source": [
    "lst = [\n",
    "    (i, int(sq), int(cb))\n",
    "    for i in range(2, 5_000_000)\n",
    "    if (sq := sqrt(i)) == int(sq) and (cb := cbrt(i)) == int(cb)\n",
    "]\n",
    "lst"
   ]
  },
  {
   "cell_type": "code",
   "execution_count": 10,
   "id": "fb70b7db-a98f-4962-bb69-2f2c1b4537f0",
   "metadata": {},
   "outputs": [],
   "source": [
    "# using generator comprehension"
   ]
  },
  {
   "cell_type": "code",
   "execution_count": 11,
   "id": "034d2ab8-0aa3-414e-be04-bc4f5c116811",
   "metadata": {},
   "outputs": [],
   "source": [
    "results = (\n",
    "    (i, int(sq), int(cb))\n",
    "    for i in range(2, 50_000_000)\n",
    "    if (sq := sqrt(i)) == int(sq) and (cb := cbrt(i)) == int(cb)\n",
    ")"
   ]
  },
  {
   "cell_type": "code",
   "execution_count": 12,
   "id": "f9250b3f-a259-46f8-b5a0-6fc329950a83",
   "metadata": {},
   "outputs": [
    {
     "data": {
      "text/plain": [
       "[(64, 8, 4),\n",
       " (729, 27, 9),\n",
       " (4096, 64, 16),\n",
       " (15625, 125, 25),\n",
       " (46656, 216, 36),\n",
       " (117649, 343, 49),\n",
       " (262144, 512, 64),\n",
       " (531441, 729, 81),\n",
       " (1000000, 1000, 100),\n",
       " (1771561, 1331, 121)]"
      ]
     },
     "execution_count": 12,
     "metadata": {},
     "output_type": "execute_result"
    }
   ],
   "source": [
    "extract = [next(results) for _ in range(10)]\n",
    "extract\n"
   ]
  },
  {
   "cell_type": "code",
   "execution_count": 13,
   "id": "2cbb28e6-26d8-4ab5-ba00-c9cd357545fa",
   "metadata": {},
   "outputs": [],
   "source": [
    "from itertools import islice"
   ]
  },
  {
   "cell_type": "code",
   "execution_count": 14,
   "id": "ecb4908f-b0bb-47c3-8f34-d696c1c40814",
   "metadata": {},
   "outputs": [
    {
     "data": {
      "text/plain": [
       "[(64, 8, 4),\n",
       " (729, 27, 9),\n",
       " (4096, 64, 16),\n",
       " (15625, 125, 25),\n",
       " (46656, 216, 36),\n",
       " (117649, 343, 49),\n",
       " (262144, 512, 64),\n",
       " (531441, 729, 81),\n",
       " (1000000, 1000, 100),\n",
       " (1771561, 1331, 121)]"
      ]
     },
     "execution_count": 14,
     "metadata": {},
     "output_type": "execute_result"
    }
   ],
   "source": [
    "results = (\n",
    "    (i, int(sq), int(cb))\n",
    "    for i in range(2, 50_000_000)\n",
    "    if (sq := sqrt(i)) == int(sq) and (cb := cbrt(i)) == int(cb)\n",
    ")\n",
    "list(islice(results, 10))"
   ]
  },
  {
   "cell_type": "code",
   "execution_count": 16,
   "id": "39b5f3d0-9c31-47c2-81b1-cba279a80725",
   "metadata": {},
   "outputs": [],
   "source": [
    "# We still have the issue of specifying that huge range - it works, but maybe I need to get the first 50 numbers - in which case that range may not be large enough - so we do not have general solution.\n",
    "# So, in this case, a generator expression gives us a partially better solution than a list comprehension, but an even better solution can be achieved using a generator function.\n"
   ]
  },
  {
   "cell_type": "code",
   "execution_count": 17,
   "id": "54f6946e-3986-47a2-a9a4-ad04b5395e7c",
   "metadata": {},
   "outputs": [],
   "source": [
    "def numbers():\n",
    "    number = 2\n",
    "    while True:\n",
    "        sq = sqrt(number)\n",
    "        cb = cbrt(number)\n",
    "        if sq == int(sq) and cb == int(cb):\n",
    "            yield number, int(sq), int(cb)\n",
    "        number += 1"
   ]
  },
  {
   "cell_type": "code",
   "execution_count": 18,
   "id": "28d2eff5-8dbb-43d7-ae44-6b3ab413629b",
   "metadata": {},
   "outputs": [
    {
     "data": {
      "text/plain": [
       "[(64, 8, 4),\n",
       " (729, 27, 9),\n",
       " (4096, 64, 16),\n",
       " (15625, 125, 25),\n",
       " (46656, 216, 36),\n",
       " (117649, 343, 49),\n",
       " (262144, 512, 64),\n",
       " (531441, 729, 81),\n",
       " (1000000, 1000, 100),\n",
       " (1771561, 1331, 121)]"
      ]
     },
     "execution_count": 18,
     "metadata": {},
     "output_type": "execute_result"
    }
   ],
   "source": [
    "list(islice(numbers(), 10))"
   ]
  },
  {
   "cell_type": "code",
   "execution_count": 19,
   "id": "6c085ac8-0f3a-448d-8ee7-7c034a95ac31",
   "metadata": {},
   "outputs": [],
   "source": [
    "# example using contexmanager "
   ]
  },
  {
   "cell_type": "code",
   "execution_count": 20,
   "id": "71bd6235-51e6-451c-ac06-cf483b11657b",
   "metadata": {},
   "outputs": [],
   "source": [
    "from contextlib import contextmanager"
   ]
  },
  {
   "cell_type": "code",
   "execution_count": 21,
   "id": "4766fed2-75c0-4ccc-b4eb-d4b51b1be3ba",
   "metadata": {},
   "outputs": [],
   "source": [
    "@contextmanager\n",
    "def echo():\n",
    "    try:\n",
    "        print(\"Entering context manager\")\n",
    "        yield lambda x: f\"echo says: {x}\"\n",
    "    except Exception as ex:\n",
    "        print(f\"An exception occurred - we may want to handle it, or not: {ex}\")\n",
    "    finally:\n",
    "        print(\"Exiting context manager - runs whether an exception occurred or not\")"
   ]
  },
  {
   "cell_type": "code",
   "execution_count": 22,
   "id": "c1a1743d-6df6-42a8-b9c4-ad5b5f073499",
   "metadata": {},
   "outputs": [
    {
     "name": "stdout",
     "output_type": "stream",
     "text": [
      "Entering context manager\n",
      "echo says: hello\n",
      "echo says: bye\n",
      "Exiting context manager - runs whether an exception occurred or not\n"
     ]
    }
   ],
   "source": [
    "with echo() as func:\n",
    "    print(func(\"hello\"))\n",
    "    print(func(\"bye\"))"
   ]
  },
  {
   "cell_type": "code",
   "execution_count": 23,
   "id": "84e9d9aa-d19f-4191-aea7-7aa457df8ea7",
   "metadata": {},
   "outputs": [
    {
     "name": "stdout",
     "output_type": "stream",
     "text": [
      "Entering context manager\n",
      "echo says: hello\n",
      "An exception occurred - we may want to handle it, or not: Wrong value\n",
      "Exiting context manager - runs whether an exception occurred or not\n"
     ]
    }
   ],
   "source": [
    "with echo() as func:\n",
    "    print(func(\"hello\"))\n",
    "    raise ValueError(\"Wrong value\")"
   ]
  },
  {
   "cell_type": "code",
   "execution_count": 24,
   "id": "5aa3c76c-23e6-4798-a4a2-184c8961b9b9",
   "metadata": {},
   "outputs": [
    {
     "name": "stdout",
     "output_type": "stream",
     "text": [
      "Entering context manager\n",
      "100\n",
      "Exiting context manager - runs whether an exception occurred or not\n"
     ]
    }
   ],
   "source": [
    "@contextmanager\n",
    "def square():\n",
    "    try:\n",
    "        print(\"Entering context manager\")\n",
    "        yield lambda x: x * x\n",
    "    except Exception as ex:\n",
    "        print(f\"An exception occurred - we may want to handle it, or not: {ex}\")\n",
    "    finally:\n",
    "        print(\"Exiting context manager - runs whether an exception occurred or not\")\n",
    "\n",
    "with square() as func:\n",
    "    print(func(10))\n",
    "\n"
   ]
  },
  {
   "cell_type": "code",
   "execution_count": 25,
   "id": "d7482f2c-c918-4956-ac98-71642593eac6",
   "metadata": {},
   "outputs": [
    {
     "name": "stdout",
     "output_type": "stream",
     "text": [
      "Entering context manager\n",
      "An exception occurred - we may want to handle it, or not: can't multiply sequence by non-int of type 'str'\n",
      "Exiting context manager - runs whether an exception occurred or not\n"
     ]
    }
   ],
   "source": [
    "with square() as func:\n",
    "    print(func('a'))"
   ]
  },
  {
   "cell_type": "code",
   "execution_count": 26,
   "id": "5f4a3326-d413-4892-b02f-6c13834bf9e4",
   "metadata": {},
   "outputs": [],
   "source": [
    "# example using csv"
   ]
  },
  {
   "cell_type": "code",
   "execution_count": 27,
   "id": "074f4435-6cf3-463f-bf39-909aff3a1a68",
   "metadata": {},
   "outputs": [],
   "source": [
    "import csv\n",
    "\n",
    "headers = [\"first_name\", \"last_name\"]\n",
    "data = [\n",
    "    (\"Isaac\", \"Newton\"),\n",
    "    (\"Gottfried\", \"Leibniz\"),\n",
    "    (\"Joseph\", \"Fourier\"),\n",
    "    (\"John\", \"von Neumann\"),\n",
    "]\n",
    "\n",
    "with open(\"test.csv\", \"w\") as f:\n",
    "    csv_writer = csv.writer(f)\n",
    "    csv_writer.writerow(headers)\n",
    "    for row in data:\n",
    "        csv_writer.writerow(row)\n"
   ]
  },
  {
   "cell_type": "code",
   "execution_count": 28,
   "id": "3dad2773-ab12-42ca-a17e-c2f3ae3abab7",
   "metadata": {},
   "outputs": [],
   "source": [
    "#We can check the contens of that file:"
   ]
  },
  {
   "cell_type": "code",
   "execution_count": 29,
   "id": "e41524c3-4d99-499e-82f0-fced829828e1",
   "metadata": {},
   "outputs": [
    {
     "name": "stdout",
     "output_type": "stream",
     "text": [
      "['first_name,last_name\\n', '\\n', 'Isaac,Newton\\n', '\\n', 'Gottfried,Leibniz\\n', '\\n', 'Joseph,Fourier\\n', '\\n', 'John,von Neumann\\n', '\\n']\n"
     ]
    }
   ],
   "source": [
    "with open(\"test.csv\") as f:\n",
    "    print(f.readlines())"
   ]
  },
  {
   "cell_type": "code",
   "execution_count": 32,
   "id": "cd8ca035-b927-43b5-a3f5-0e2b38e4d291",
   "metadata": {},
   "outputs": [
    {
     "name": "stdout",
     "output_type": "stream",
     "text": [
      "['first_name', 'last_name']\n",
      "[]\n",
      "['Isaac', 'Newton']\n",
      "[]\n",
      "['Gottfried', 'Leibniz']\n",
      "[]\n",
      "['Joseph', 'Fourier']\n",
      "[]\n",
      "['John', 'von Neumann']\n",
      "[]\n"
     ]
    }
   ],
   "source": [
    "with open(\"test.csv\") as f:\n",
    "    csv_reader = csv.reader(f)\n",
    "    for row in csv_reader:\n",
    "        print(row)"
   ]
  },
  {
   "cell_type": "code",
   "execution_count": 30,
   "id": "0880bb01-e1d6-4308-b8cc-0d4437d5d396",
   "metadata": {},
   "outputs": [],
   "source": [
    "#custom function"
   ]
  },
  {
   "cell_type": "code",
   "execution_count": 33,
   "id": "ed29e5d4-cfb4-42f3-bcd4-607797c18d66",
   "metadata": {},
   "outputs": [],
   "source": [
    "@contextmanager\n",
    "def csv_reader(file_path):\n",
    "    with open(file_path) as f:\n",
    "        yield csv.reader(f)    "
   ]
  },
  {
   "cell_type": "code",
   "execution_count": 34,
   "id": "dd491b24-0627-4369-b618-28f7034413b3",
   "metadata": {},
   "outputs": [
    {
     "name": "stdout",
     "output_type": "stream",
     "text": [
      "['first_name', 'last_name']\n",
      "[]\n",
      "['Isaac', 'Newton']\n",
      "[]\n",
      "['Gottfried', 'Leibniz']\n",
      "[]\n",
      "['Joseph', 'Fourier']\n",
      "[]\n",
      "['John', 'von Neumann']\n",
      "[]\n"
     ]
    }
   ],
   "source": [
    "with csv_reader(\"test.csv\") as reader:\n",
    "    for row in reader:\n",
    "        print(row)"
   ]
  },
  {
   "cell_type": "code",
   "execution_count": 35,
   "id": "39b8fef2-bfa9-4108-ad8e-8a415c650cb8",
   "metadata": {},
   "outputs": [],
   "source": [
    "# best solution for both read and write"
   ]
  },
  {
   "cell_type": "code",
   "execution_count": 36,
   "id": "127a466b-8041-4f44-a8e0-d6baece1d20c",
   "metadata": {},
   "outputs": [
    {
     "name": "stdout",
     "output_type": "stream",
     "text": [
      "['a', 'b', 'c']\n",
      "[]\n",
      "['d', 'e', 'f']\n",
      "[]\n"
     ]
    }
   ],
   "source": [
    "@contextmanager\n",
    "def csv_file(file_path, *, mode=\"r\"):\n",
    "    if mode == \"r\":\n",
    "        with open(file_path) as f:\n",
    "            yield csv.reader(f)\n",
    "    elif mode in {'w', 'a'}:\n",
    "        with open(file_path, mode) as f:\n",
    "            yield csv.writer(f)\n",
    "    else:\n",
    "        raise ValueError(\"Unsuported mode - must be one of 'r', 'w', 'a'\")\n",
    "\n",
    "with csv_file(\"test3.csv\", mode=\"w\") as writer:\n",
    "    writer.writerow(list('abc'))\n",
    "    writer.writerow(list('def'))\n",
    "\n",
    "with csv_file(\"test3.csv\") as reader:\n",
    "    for row in reader:\n",
    "        print(row)\n",
    "\n"
   ]
  },
  {
   "cell_type": "code",
   "execution_count": null,
   "id": "f0772fe7-1199-428a-80d0-654236b01318",
   "metadata": {},
   "outputs": [],
   "source": []
  }
 ],
 "metadata": {
  "kernelspec": {
   "display_name": "Python 3 (ipykernel)",
   "language": "python",
   "name": "python3"
  },
  "language_info": {
   "codemirror_mode": {
    "name": "ipython",
    "version": 3
   },
   "file_extension": ".py",
   "mimetype": "text/x-python",
   "name": "python",
   "nbconvert_exporter": "python",
   "pygments_lexer": "ipython3",
   "version": "3.11.4"
  }
 },
 "nbformat": 4,
 "nbformat_minor": 5
}
